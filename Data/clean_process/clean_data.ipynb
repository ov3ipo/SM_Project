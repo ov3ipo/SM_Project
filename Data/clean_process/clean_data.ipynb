{
 "cells": [
  {
   "cell_type": "code",
   "execution_count": 36,
   "id": "initial_id",
   "metadata": {
    "ExecuteTime": {
     "end_time": "2024-03-03T17:39:17.163040700Z",
     "start_time": "2024-03-03T17:39:17.159005600Z"
    },
    "collapsed": true
   },
   "outputs": [],
   "source": [
    "import pandas as pd\n",
    "import numpy as np"
   ]
  },
  {
   "cell_type": "code",
   "execution_count": 37,
   "id": "c21e5e5aa18b3f80",
   "metadata": {
    "ExecuteTime": {
     "end_time": "2024-03-03T17:39:17.198342900Z",
     "start_time": "2024-03-03T17:39:17.167046600Z"
    },
    "collapsed": false
   },
   "outputs": [
    {
     "data": {
      "text/html": [
       "<div>\n",
       "<style scoped>\n",
       "    .dataframe tbody tr th:only-of-type {\n",
       "        vertical-align: middle;\n",
       "    }\n",
       "\n",
       "    .dataframe tbody tr th {\n",
       "        vertical-align: top;\n",
       "    }\n",
       "\n",
       "    .dataframe thead th {\n",
       "        text-align: right;\n",
       "    }\n",
       "</style>\n",
       "<table border=\"1\" class=\"dataframe\">\n",
       "  <thead>\n",
       "    <tr style=\"text-align: right;\">\n",
       "      <th></th>\n",
       "      <th>Country</th>\n",
       "      <th>Year</th>\n",
       "      <th>Status</th>\n",
       "      <th>Life expectancy</th>\n",
       "      <th>Adult Mortality</th>\n",
       "      <th>infant deaths</th>\n",
       "      <th>Alcohol</th>\n",
       "      <th>percentage expenditure</th>\n",
       "      <th>Hepatitis B</th>\n",
       "      <th>Measles</th>\n",
       "      <th>...</th>\n",
       "      <th>Polio</th>\n",
       "      <th>Total expenditure</th>\n",
       "      <th>Diphtheria</th>\n",
       "      <th>HIV/AIDS</th>\n",
       "      <th>GDP</th>\n",
       "      <th>Population</th>\n",
       "      <th>thinness  1-19 years</th>\n",
       "      <th>thinness 5-9 years</th>\n",
       "      <th>Income composition of resources</th>\n",
       "      <th>Schooling</th>\n",
       "    </tr>\n",
       "  </thead>\n",
       "  <tbody>\n",
       "    <tr>\n",
       "      <th>0</th>\n",
       "      <td>Afghanistan</td>\n",
       "      <td>2015</td>\n",
       "      <td>Developing</td>\n",
       "      <td>65.0</td>\n",
       "      <td>263.0</td>\n",
       "      <td>62</td>\n",
       "      <td>0.01</td>\n",
       "      <td>71.279624</td>\n",
       "      <td>65.0</td>\n",
       "      <td>1154</td>\n",
       "      <td>...</td>\n",
       "      <td>6.0</td>\n",
       "      <td>8.16</td>\n",
       "      <td>65.0</td>\n",
       "      <td>0.1</td>\n",
       "      <td>584.259210</td>\n",
       "      <td>33736494.0</td>\n",
       "      <td>17.2</td>\n",
       "      <td>17.3</td>\n",
       "      <td>0.479</td>\n",
       "      <td>10.1</td>\n",
       "    </tr>\n",
       "    <tr>\n",
       "      <th>1</th>\n",
       "      <td>Afghanistan</td>\n",
       "      <td>2014</td>\n",
       "      <td>Developing</td>\n",
       "      <td>59.9</td>\n",
       "      <td>271.0</td>\n",
       "      <td>64</td>\n",
       "      <td>0.01</td>\n",
       "      <td>73.523582</td>\n",
       "      <td>62.0</td>\n",
       "      <td>492</td>\n",
       "      <td>...</td>\n",
       "      <td>58.0</td>\n",
       "      <td>8.18</td>\n",
       "      <td>62.0</td>\n",
       "      <td>0.1</td>\n",
       "      <td>612.696514</td>\n",
       "      <td>327582.0</td>\n",
       "      <td>17.5</td>\n",
       "      <td>17.5</td>\n",
       "      <td>0.476</td>\n",
       "      <td>10.0</td>\n",
       "    </tr>\n",
       "    <tr>\n",
       "      <th>2</th>\n",
       "      <td>Afghanistan</td>\n",
       "      <td>2013</td>\n",
       "      <td>Developing</td>\n",
       "      <td>59.9</td>\n",
       "      <td>268.0</td>\n",
       "      <td>66</td>\n",
       "      <td>0.01</td>\n",
       "      <td>73.219243</td>\n",
       "      <td>64.0</td>\n",
       "      <td>430</td>\n",
       "      <td>...</td>\n",
       "      <td>62.0</td>\n",
       "      <td>8.13</td>\n",
       "      <td>64.0</td>\n",
       "      <td>0.1</td>\n",
       "      <td>631.744976</td>\n",
       "      <td>31731688.0</td>\n",
       "      <td>17.7</td>\n",
       "      <td>17.7</td>\n",
       "      <td>0.470</td>\n",
       "      <td>9.9</td>\n",
       "    </tr>\n",
       "    <tr>\n",
       "      <th>3</th>\n",
       "      <td>Afghanistan</td>\n",
       "      <td>2012</td>\n",
       "      <td>Developing</td>\n",
       "      <td>59.5</td>\n",
       "      <td>272.0</td>\n",
       "      <td>69</td>\n",
       "      <td>0.01</td>\n",
       "      <td>78.184215</td>\n",
       "      <td>67.0</td>\n",
       "      <td>2787</td>\n",
       "      <td>...</td>\n",
       "      <td>67.0</td>\n",
       "      <td>8.52</td>\n",
       "      <td>67.0</td>\n",
       "      <td>0.1</td>\n",
       "      <td>669.959000</td>\n",
       "      <td>3696958.0</td>\n",
       "      <td>17.9</td>\n",
       "      <td>18.0</td>\n",
       "      <td>0.463</td>\n",
       "      <td>9.8</td>\n",
       "    </tr>\n",
       "    <tr>\n",
       "      <th>4</th>\n",
       "      <td>Afghanistan</td>\n",
       "      <td>2011</td>\n",
       "      <td>Developing</td>\n",
       "      <td>59.2</td>\n",
       "      <td>275.0</td>\n",
       "      <td>71</td>\n",
       "      <td>0.01</td>\n",
       "      <td>7.097109</td>\n",
       "      <td>68.0</td>\n",
       "      <td>3013</td>\n",
       "      <td>...</td>\n",
       "      <td>68.0</td>\n",
       "      <td>7.87</td>\n",
       "      <td>68.0</td>\n",
       "      <td>0.1</td>\n",
       "      <td>63.537231</td>\n",
       "      <td>2978599.0</td>\n",
       "      <td>18.2</td>\n",
       "      <td>18.2</td>\n",
       "      <td>0.454</td>\n",
       "      <td>9.5</td>\n",
       "    </tr>\n",
       "  </tbody>\n",
       "</table>\n",
       "<p>5 rows × 22 columns</p>\n",
       "</div>"
      ],
      "text/plain": [
       "       Country  Year      Status  Life expectancy   Adult Mortality  \\\n",
       "0  Afghanistan  2015  Developing              65.0            263.0   \n",
       "1  Afghanistan  2014  Developing              59.9            271.0   \n",
       "2  Afghanistan  2013  Developing              59.9            268.0   \n",
       "3  Afghanistan  2012  Developing              59.5            272.0   \n",
       "4  Afghanistan  2011  Developing              59.2            275.0   \n",
       "\n",
       "   infant deaths  Alcohol  percentage expenditure  Hepatitis B  Measles   ...  \\\n",
       "0             62     0.01               71.279624         65.0      1154  ...   \n",
       "1             64     0.01               73.523582         62.0       492  ...   \n",
       "2             66     0.01               73.219243         64.0       430  ...   \n",
       "3             69     0.01               78.184215         67.0      2787  ...   \n",
       "4             71     0.01                7.097109         68.0      3013  ...   \n",
       "\n",
       "   Polio  Total expenditure  Diphtheria    HIV/AIDS         GDP  Population  \\\n",
       "0    6.0               8.16         65.0        0.1  584.259210  33736494.0   \n",
       "1   58.0               8.18         62.0        0.1  612.696514    327582.0   \n",
       "2   62.0               8.13         64.0        0.1  631.744976  31731688.0   \n",
       "3   67.0               8.52         67.0        0.1  669.959000   3696958.0   \n",
       "4   68.0               7.87         68.0        0.1   63.537231   2978599.0   \n",
       "\n",
       "    thinness  1-19 years   thinness 5-9 years  \\\n",
       "0                   17.2                 17.3   \n",
       "1                   17.5                 17.5   \n",
       "2                   17.7                 17.7   \n",
       "3                   17.9                 18.0   \n",
       "4                   18.2                 18.2   \n",
       "\n",
       "   Income composition of resources  Schooling  \n",
       "0                            0.479       10.1  \n",
       "1                            0.476       10.0  \n",
       "2                            0.470        9.9  \n",
       "3                            0.463        9.8  \n",
       "4                            0.454        9.5  \n",
       "\n",
       "[5 rows x 22 columns]"
      ]
     },
     "execution_count": 37,
     "metadata": {},
     "output_type": "execute_result"
    }
   ],
   "source": [
    "df = pd.read_csv(\"F:/Onedrive/documents/GitHub/DSDV_project/data/Life Expectancy Data.csv\")\n",
    "df.head()"
   ]
  },
  {
   "cell_type": "code",
   "execution_count": 38,
   "id": "b03a43a813d931ed",
   "metadata": {
    "ExecuteTime": {
     "end_time": "2024-03-03T17:39:17.210953500Z",
     "start_time": "2024-03-03T17:39:17.200851700Z"
    },
    "collapsed": false
   },
   "outputs": [
    {
     "name": "stdout",
     "output_type": "stream",
     "text": [
      "['Country', 'Year', 'Status', 'Life expectancy ', 'Adult Mortality', 'infant deaths', 'Alcohol', 'percentage expenditure', 'Hepatitis B', 'Measles ', ' BMI ', 'under-five deaths ', 'Polio', 'Total expenditure', 'Diphtheria ', ' HIV/AIDS', 'GDP', 'Population', ' thinness  1-19 years', ' thinness 5-9 years', 'Income composition of resources', 'Schooling']\n"
     ]
    }
   ],
   "source": [
    "print(df.columns.tolist())"
   ]
  },
  {
   "cell_type": "code",
   "execution_count": 39,
   "id": "63f5c8a1b27739f6",
   "metadata": {
    "ExecuteTime": {
     "end_time": "2024-03-03T17:39:17.254154Z",
     "start_time": "2024-03-03T17:39:17.207398500Z"
    },
    "collapsed": false
   },
   "outputs": [],
   "source": [
    "# df1 = pd.DataFrame(df)\n",
    "# print(df1)\n",
    "df1 = df.copy()"
   ]
  },
  {
   "cell_type": "code",
   "execution_count": 40,
   "id": "1ee235c6734a9b26",
   "metadata": {
    "ExecuteTime": {
     "end_time": "2024-03-03T17:39:17.255162100Z",
     "start_time": "2024-03-03T17:39:17.230191400Z"
    },
    "collapsed": false
   },
   "outputs": [],
   "source": [
    "col_to_drop = [' thinness  1-19 years',' thinness 5-9 years', 'Schooling']\n",
    "data = df1.drop(col_to_drop,axis=1)"
   ]
  },
  {
   "cell_type": "code",
   "execution_count": 41,
   "id": "4ceaa5cc018c1319",
   "metadata": {
    "ExecuteTime": {
     "end_time": "2024-03-03T17:39:17.283245300Z",
     "start_time": "2024-03-03T17:39:17.236174400Z"
    },
    "collapsed": false
   },
   "outputs": [
    {
     "name": "stdout",
     "output_type": "stream",
     "text": [
      "          Country  Year      Status  Life expectancy   Adult Mortality  \\\n",
      "0     Afghanistan  2015  Developing              65.0            263.0   \n",
      "1     Afghanistan  2014  Developing              59.9            271.0   \n",
      "2     Afghanistan  2013  Developing              59.9            268.0   \n",
      "3     Afghanistan  2012  Developing              59.5            272.0   \n",
      "4     Afghanistan  2011  Developing              59.2            275.0   \n",
      "...           ...   ...         ...               ...              ...   \n",
      "2933     Zimbabwe  2004  Developing              44.3            723.0   \n",
      "2934     Zimbabwe  2003  Developing              44.5            715.0   \n",
      "2935     Zimbabwe  2002  Developing              44.8             73.0   \n",
      "2936     Zimbabwe  2001  Developing              45.3            686.0   \n",
      "2937     Zimbabwe  2000  Developing              46.0            665.0   \n",
      "\n",
      "      infant deaths  Alcohol  percentage expenditure  Hepatitis B  Measles   \\\n",
      "0                62     0.01               71.279624         65.0      1154   \n",
      "1                64     0.01               73.523582         62.0       492   \n",
      "2                66     0.01               73.219243         64.0       430   \n",
      "3                69     0.01               78.184215         67.0      2787   \n",
      "4                71     0.01                7.097109         68.0      3013   \n",
      "...             ...      ...                     ...          ...       ...   \n",
      "2933             27     4.36                0.000000         68.0        31   \n",
      "2934             26     4.06                0.000000          7.0       998   \n",
      "2935             25     4.43                0.000000         73.0       304   \n",
      "2936             25     1.72                0.000000         76.0       529   \n",
      "2937             24     1.68                0.000000         79.0      1483   \n",
      "\n",
      "       BMI   under-five deaths   Polio  Total expenditure  Diphtheria   \\\n",
      "0      19.1                  83    6.0               8.16         65.0   \n",
      "1      18.6                  86   58.0               8.18         62.0   \n",
      "2      18.1                  89   62.0               8.13         64.0   \n",
      "3      17.6                  93   67.0               8.52         67.0   \n",
      "4      17.2                  97   68.0               7.87         68.0   \n",
      "...     ...                 ...    ...                ...          ...   \n",
      "2933   27.1                  42   67.0               7.13         65.0   \n",
      "2934   26.7                  41    7.0               6.52         68.0   \n",
      "2935   26.3                  40   73.0               6.53         71.0   \n",
      "2936   25.9                  39   76.0               6.16         75.0   \n",
      "2937   25.5                  39   78.0               7.10         78.0   \n",
      "\n",
      "       HIV/AIDS         GDP  Population  Income composition of resources  \n",
      "0           0.1  584.259210  33736494.0                            0.479  \n",
      "1           0.1  612.696514    327582.0                            0.476  \n",
      "2           0.1  631.744976  31731688.0                            0.470  \n",
      "3           0.1  669.959000   3696958.0                            0.463  \n",
      "4           0.1   63.537231   2978599.0                            0.454  \n",
      "...         ...         ...         ...                              ...  \n",
      "2933       33.6  454.366654  12777511.0                            0.407  \n",
      "2934       36.7  453.351155  12633897.0                            0.418  \n",
      "2935       39.8   57.348340    125525.0                            0.427  \n",
      "2936       42.1  548.587312  12366165.0                            0.427  \n",
      "2937       43.5  547.358878  12222251.0                            0.434  \n",
      "\n",
      "[2938 rows x 19 columns]\n"
     ]
    },
    {
     "name": "stderr",
     "output_type": "stream",
     "text": [
      "C:\\Users\\Hii\\AppData\\Local\\Temp\\ipykernel_13864\\1593296250.py:3: FutureWarning: A value is trying to be set on a copy of a DataFrame or Series through chained assignment using an inplace method.\n",
      "The behavior will change in pandas 3.0. This inplace method will never work because the intermediate object on which we are setting values always behaves as a copy.\n",
      "\n",
      "For example, when doing 'df[col].method(value, inplace=True)', try using 'df.method({col: value}, inplace=True)' or df[col] = df[col].method(value) instead, to perform the operation inplace on the original object.\n",
      "\n",
      "\n",
      "  data[column].fillna(data[column].mean(), inplace=True)\n"
     ]
    }
   ],
   "source": [
    "for column in data.columns:\n",
    "    if data[column].dtype != 'object':\n",
    "        data[column].fillna(data[column].mean(), inplace=True)\n",
    "print(data)"
   ]
  },
  {
   "cell_type": "code",
   "execution_count": 42,
   "id": "3f4671717b140c50",
   "metadata": {
    "ExecuteTime": {
     "end_time": "2024-03-03T17:39:17.408454300Z",
     "start_time": "2024-03-03T17:39:17.260161500Z"
    },
    "collapsed": false
   },
   "outputs": [
    {
     "name": "stdout",
     "output_type": "stream",
     "text": [
      "                                 Country  Year      Status  Life expectancy   \\\n",
      "15                           Afghanistan  2000  Developing              54.8   \n",
      "31                               Albania  2000  Developing              72.6   \n",
      "47                               Algeria  2000  Developing              71.3   \n",
      "63                                Angola  2000  Developing              45.3   \n",
      "79                   Antigua and Barbuda  2000  Developing              73.6   \n",
      "...                                  ...   ...         ...               ...   \n",
      "2858  Venezuela (Bolivarian Republic of)  2015  Developing              74.1   \n",
      "2874                            Viet Nam  2015  Developing              76.0   \n",
      "2890                               Yemen  2015  Developing              65.7   \n",
      "2906                              Zambia  2015  Developing              61.8   \n",
      "2922                            Zimbabwe  2015  Developing              67.0   \n",
      "\n",
      "      Adult Mortality  infant deaths   Alcohol  percentage expenditure  \\\n",
      "15              321.0             88  0.010000               10.424960   \n",
      "31               11.0              1  3.660000               91.711541   \n",
      "47              145.0             21  0.250000              154.455944   \n",
      "63               48.0             97  1.850000               15.881493   \n",
      "79              156.0              0  7.270000             1127.743470   \n",
      "...               ...            ...       ...                     ...   \n",
      "2858            157.0              9  4.602861                0.000000   \n",
      "2874            127.0             28  4.602861                0.000000   \n",
      "2890            224.0             37  4.602861                0.000000   \n",
      "2906             33.0             27  4.602861                0.000000   \n",
      "2922            336.0             22  4.602861                0.000000   \n",
      "\n",
      "      Hepatitis B  Measles    BMI   under-five deaths   Polio  \\\n",
      "15      62.000000      6532   12.2                 122   24.0   \n",
      "31      96.000000       662   45.0                   1   97.0   \n",
      "47      80.940461         0   44.4                  25   86.0   \n",
      "63      80.940461      2219   15.4                 160    3.0   \n",
      "79      80.940461         0   38.2                   0   96.0   \n",
      "...           ...       ...    ...                 ...    ...   \n",
      "2858    87.000000         0   62.1                  10   87.0   \n",
      "2874    97.000000       256   17.5                  35   97.0   \n",
      "2890    69.000000       468   41.3                  47   63.0   \n",
      "2906     9.000000         9   23.4                  40    9.0   \n",
      "2922    87.000000         0   31.8                  32   88.0   \n",
      "\n",
      "      Total expenditure  Diphtheria    HIV/AIDS          GDP    Population  \\\n",
      "15              8.20000         24.0        0.1   114.560000  2.937560e+05   \n",
      "31              6.26000         97.0        0.1  1175.788981  3.892700e+04   \n",
      "47              3.49000         86.0        0.1  1757.177970  3.118366e+06   \n",
      "63              2.79000         28.0        2.0   555.296942  1.644924e+06   \n",
      "79              4.13000         95.0        0.1  9875.161736  1.275338e+07   \n",
      "...                 ...          ...        ...          ...           ...   \n",
      "2858            5.93819         87.0        0.1  7483.158469  1.275338e+07   \n",
      "2874            5.93819         97.0        0.1  7483.158469  1.275338e+07   \n",
      "2890            5.93819         69.0        0.1  7483.158469  1.275338e+07   \n",
      "2906            5.93819          9.0        4.1  1313.889646  1.615870e+05   \n",
      "2922            5.93819         87.0        6.2   118.693830  1.577745e+07   \n",
      "\n",
      "      Income composition of resources  \n",
      "15                              0.338  \n",
      "31                              0.656  \n",
      "47                              0.636  \n",
      "63                              0.382  \n",
      "79                              0.000  \n",
      "...                               ...  \n",
      "2858                            0.769  \n",
      "2874                            0.678  \n",
      "2890                            0.499  \n",
      "2906                            0.576  \n",
      "2922                            0.507  \n",
      "\n",
      "[2938 rows x 19 columns]\n",
      "                                 Country  Year      Status  Life expectancy   \\\n",
      "15                           Afghanistan  2000  Developing              54.8   \n",
      "31                               Albania  2000  Developing              72.6   \n",
      "47                               Algeria  2000  Developing              71.3   \n",
      "63                                Angola  2000  Developing              45.3   \n",
      "79                   Antigua and Barbuda  2000  Developing              73.6   \n",
      "...                                  ...   ...         ...               ...   \n",
      "2858  Venezuela (Bolivarian Republic of)  2015  Developing              74.1   \n",
      "2874                            Viet Nam  2015  Developing              76.0   \n",
      "2890                               Yemen  2015  Developing              65.7   \n",
      "2906                              Zambia  2015  Developing              61.8   \n",
      "2922                            Zimbabwe  2015  Developing              67.0   \n",
      "\n",
      "      Adult Mortality  infant deaths   Alcohol  percentage expenditure  \\\n",
      "15              321.0             88  0.010000               10.424960   \n",
      "31               11.0              1  3.660000               91.711541   \n",
      "47              145.0             21  0.250000              154.455944   \n",
      "63               48.0             97  1.850000               15.881493   \n",
      "79              156.0              0  7.270000             1127.743470   \n",
      "...               ...            ...       ...                     ...   \n",
      "2858            157.0              9  4.602861                0.000000   \n",
      "2874            127.0             28  4.602861                0.000000   \n",
      "2890            224.0             37  4.602861                0.000000   \n",
      "2906             33.0             27  4.602861                0.000000   \n",
      "2922            336.0             22  4.602861                0.000000   \n",
      "\n",
      "      Hepatitis B  Measles    BMI   under-five deaths   Polio  \\\n",
      "15      62.000000      6532   12.2                 122   24.0   \n",
      "31      96.000000       662   45.0                   1   97.0   \n",
      "47      80.940461         0   44.4                  25   86.0   \n",
      "63      80.940461      2219   15.4                 160    3.0   \n",
      "79      80.940461         0   38.2                   0   96.0   \n",
      "...           ...       ...    ...                 ...    ...   \n",
      "2858    87.000000         0   62.1                  10   87.0   \n",
      "2874    97.000000       256   17.5                  35   97.0   \n",
      "2890    69.000000       468   41.3                  47   63.0   \n",
      "2906     9.000000         9   23.4                  40    9.0   \n",
      "2922    87.000000         0   31.8                  32   88.0   \n",
      "\n",
      "      Total expenditure  Diphtheria    HIV/AIDS          GDP    Population  \\\n",
      "15              8.20000         24.0        0.1   114.560000  2.937560e+05   \n",
      "31              6.26000         97.0        0.1  1175.788981  3.892700e+04   \n",
      "47              3.49000         86.0        0.1  1757.177970  3.118366e+06   \n",
      "63              2.79000         28.0        2.0   555.296942  1.644924e+06   \n",
      "79              4.13000         95.0        0.1  9875.161736  1.275338e+07   \n",
      "...                 ...          ...        ...          ...           ...   \n",
      "2858            5.93819         87.0        0.1  7483.158469  1.275338e+07   \n",
      "2874            5.93819         97.0        0.1  7483.158469  1.275338e+07   \n",
      "2890            5.93819         69.0        0.1  7483.158469  1.275338e+07   \n",
      "2906            5.93819          9.0        4.1  1313.889646  1.615870e+05   \n",
      "2922            5.93819         87.0        6.2   118.693830  1.577745e+07   \n",
      "\n",
      "      Income composition of resources  \n",
      "15                              0.338  \n",
      "31                              0.656  \n",
      "47                              0.636  \n",
      "63                              0.382  \n",
      "79                              0.000  \n",
      "...                               ...  \n",
      "2858                            0.769  \n",
      "2874                            0.678  \n",
      "2890                            0.499  \n",
      "2906                            0.576  \n",
      "2922                            0.507  \n",
      "\n",
      "[2938 rows x 19 columns]\n"
     ]
    }
   ],
   "source": [
    "grouped = data.groupby('Year')\n",
    "dfs_by_year = []\n",
    "for year, data_year in grouped:\n",
    "    dfs_by_year.append(data_year)\n",
    "try:\n",
    "    all_data = pd.concat(dfs_by_year)\n",
    "    all_data.to_csv(\"all_years_data.csv\", index=False)\n",
    "    print(all_data)\n",
    "except KeyError as e:\n",
    "    print(f\"Error: {e}\")\n",
    "all_data = pd.concat(dfs_by_year)\n",
    "all_data.to_csv(\"all_years_data.csv\",index=False)\n",
    "print(all_data)\n",
    "    "
   ]
  },
  {
   "cell_type": "code",
   "execution_count": 43,
   "id": "b5078858d01d4929",
   "metadata": {
    "ExecuteTime": {
     "end_time": "2024-03-03T17:39:17.452379600Z",
     "start_time": "2024-03-03T17:39:17.396941600Z"
    },
    "collapsed": false
   },
   "outputs": [],
   "source": [
    "all_years = pd.read_csv(\"F:/Onedrive/Documents/GitHub/SM_Project/all_years_data.csv\")\n",
    "grouped_by_year = all_years.groupby('Year')\n"
   ]
  },
  {
   "cell_type": "code",
   "execution_count": 44,
   "id": "15c4698d",
   "metadata": {},
   "outputs": [
    {
     "name": "stdout",
     "output_type": "stream",
     "text": [
      "Requirement already satisfied: xlsxwriter in c:\\users\\hii\\appdata\\local\\programs\\python\\python311\\lib\\site-packages (3.2.0)\n",
      "Note: you may need to restart the kernel to use updated packages.\n"
     ]
    },
    {
     "name": "stderr",
     "output_type": "stream",
     "text": [
      "\n",
      "[notice] A new release of pip is available: 23.2.1 -> 24.0\n",
      "[notice] To update, run: python.exe -m pip install --upgrade pip\n"
     ]
    }
   ],
   "source": [
    "pip install xlsxwriter\n"
   ]
  },
  {
   "cell_type": "code",
   "execution_count": 45,
   "id": "8a515b33ee79eaf7",
   "metadata": {
    "ExecuteTime": {
     "end_time": "2024-03-03T17:39:19.223443400Z",
     "start_time": "2024-03-03T17:39:17.423772Z"
    },
    "collapsed": false
   },
   "outputs": [],
   "source": [
    "with pd.ExcelWriter('data_by_year.xlsx', engine = 'xlsxwriter') as writer:\n",
    "    for year, data_year in grouped_by_year:\n",
    "        data_year_without_year = data_year.drop(columns=['Year'])\n",
    "        data_year_without_year.to_excel(writer,sheet_name=str(year),index=False)"
   ]
  },
  {
   "cell_type": "code",
   "execution_count": 46,
   "id": "fee4a49e278b0aab",
   "metadata": {
    "ExecuteTime": {
     "end_time": "2024-03-03T17:48:28.784522200Z",
     "start_time": "2024-03-03T17:48:28.724858Z"
    },
    "collapsed": false
   },
   "outputs": [
    {
     "name": "stdout",
     "output_type": "stream",
     "text": [
      "Data for year 2000 saved to F:/Onedrive/Documents/GitHub/SM_Project/data_by_year/data_2000.csv\n",
      "Data for year 2001 saved to F:/Onedrive/Documents/GitHub/SM_Project/data_by_year/data_2001.csv\n",
      "Data for year 2002 saved to F:/Onedrive/Documents/GitHub/SM_Project/data_by_year/data_2002.csv\n",
      "Data for year 2003 saved to F:/Onedrive/Documents/GitHub/SM_Project/data_by_year/data_2003.csv\n",
      "Data for year 2004 saved to F:/Onedrive/Documents/GitHub/SM_Project/data_by_year/data_2004.csv\n",
      "Data for year 2005 saved to F:/Onedrive/Documents/GitHub/SM_Project/data_by_year/data_2005.csv\n",
      "Data for year 2006 saved to F:/Onedrive/Documents/GitHub/SM_Project/data_by_year/data_2006.csv\n",
      "Data for year 2007 saved to F:/Onedrive/Documents/GitHub/SM_Project/data_by_year/data_2007.csv\n",
      "Data for year 2008 saved to F:/Onedrive/Documents/GitHub/SM_Project/data_by_year/data_2008.csv\n",
      "Data for year 2009 saved to F:/Onedrive/Documents/GitHub/SM_Project/data_by_year/data_2009.csv\n",
      "Data for year 2010 saved to F:/Onedrive/Documents/GitHub/SM_Project/data_by_year/data_2010.csv\n",
      "Data for year 2011 saved to F:/Onedrive/Documents/GitHub/SM_Project/data_by_year/data_2011.csv\n",
      "Data for year 2012 saved to F:/Onedrive/Documents/GitHub/SM_Project/data_by_year/data_2012.csv\n",
      "Data for year 2013 saved to F:/Onedrive/Documents/GitHub/SM_Project/data_by_year/data_2013.csv\n",
      "Data for year 2014 saved to F:/Onedrive/Documents/GitHub/SM_Project/data_by_year/data_2014.csv\n",
      "Data for year 2015 saved to F:/Onedrive/Documents/GitHub/SM_Project/data_by_year/data_2015.csv\n"
     ]
    }
   ],
   "source": [
    "grouped1 = data.groupby('Year')\n",
    "for year, data_year in grouped1:\n",
    "    filename = f\"F:/Onedrive/Documents/GitHub/SM_Project/data_by_year/data_{year}.csv\"\n",
    "    data_year.to_csv(filename, index=False)\n",
    "    print(f\"Data for year {year} saved to {filename}\")"
   ]
  },
  {
   "cell_type": "code",
   "execution_count": null,
   "id": "cf4cf98836142a88",
   "metadata": {
    "collapsed": false
   },
   "outputs": [],
   "source": []
  }
 ],
 "metadata": {
  "kernelspec": {
   "display_name": "Python 3",
   "language": "python",
   "name": "python3"
  },
  "language_info": {
   "codemirror_mode": {
    "name": "ipython",
    "version": 3
   },
   "file_extension": ".py",
   "mimetype": "text/x-python",
   "name": "python",
   "nbconvert_exporter": "python",
   "pygments_lexer": "ipython3",
   "version": "3.11.5"
  }
 },
 "nbformat": 4,
 "nbformat_minor": 5
}
