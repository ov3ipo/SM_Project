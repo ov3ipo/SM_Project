{
 "cells": [
  {
   "cell_type": "markdown",
   "id": "ul_pmxhQh4rI",
   "metadata": {
    "id": "ul_pmxhQh4rI"
   },
   "source": [
    "# ***Data Collection***\n",
    "* Data Collection is an essential part of exploratory data analysis. It refers to\n",
    "the process of finding and loading data into our system. Good, reliable data can be found on various public sites or bought from private organizations. Some reliable sites for data collection are Kaggle, Github, Machine Learning Repository, etc.\n",
    "\n",
    "* The data depicted below represents life expectancy dataset that is available on Kaggle. It contains 183 country information and many factors that could affect the life expectancy.\n",
    "\n",
    "\n"
   ]
  },
  {
   "cell_type": "code",
   "execution_count": 177,
   "id": "initial_id",
   "metadata": {
    "collapsed": true,
    "id": "initial_id",
    "ExecuteTime": {
     "end_time": "2024-05-20T04:07:05.383596500Z",
     "start_time": "2024-05-20T04:07:05.167189800Z"
    }
   },
   "outputs": [],
   "source": [
    "import numpy as np\n",
    "import plotly.express as px\n",
    "import pandas as pd\n",
    "pd.options.display.float_format = '{:.4f}'.format"
   ]
  },
  {
   "cell_type": "code",
   "execution_count": 178,
   "id": "4af73fed2a99f1ab",
   "metadata": {
    "id": "4af73fed2a99f1ab",
    "ExecuteTime": {
     "end_time": "2024-05-20T04:07:05.461992900Z",
     "start_time": "2024-05-20T04:07:05.387597200Z"
    }
   },
   "outputs": [],
   "source": [
    "df = pd.read_csv('life_expectancy.csv')"
   ]
  },
  {
   "cell_type": "code",
   "execution_count": 179,
   "id": "39e35e50ab0255e6",
   "metadata": {
    "colab": {
     "base_uri": "https://localhost:8080/",
     "height": 1000
    },
    "id": "39e35e50ab0255e6",
    "outputId": "34109dd7-b53f-4c0f-f235-4f0b34fa0008",
    "ExecuteTime": {
     "end_time": "2024-05-20T04:07:05.474992300Z",
     "start_time": "2024-05-20T04:07:05.430527600Z"
    }
   },
   "outputs": [
    {
     "data": {
      "text/plain": "                               Country  Year      Status  Life expectancy   \\\n63                              Angola  2000  Developing           45.3000   \n1106                            Guyana  2015  Developing           66.2000   \n452                         Cabo Verde  2011  Developing           72.6000   \n2895                             Yemen  2010  Developing           64.4000   \n863                            Eritrea  2002  Developing           58.5000   \n2560                        Tajikistan  2008  Developing           66.4000   \n253                            Belgium  2002   Developed           78.0000   \n1729                          Mongolia  2002  Developing           63.8000   \n2197  Saint Vincent and the Grenadines  2002  Developing           79.0000   \n71                 Antigua and Barbuda  2008  Developing           75.2000   \n2807          United States of America  2002   Developed           77.0000   \n997                            Germany  2012   Developed           86.0000   \n2287                        Seychelles  2009  Developing           72.3000   \n1062                         Guatemala  2011  Developing           71.1000   \n1229        Iran (Islamic Republic of)  2004  Developing           71.8000   \n2825                           Uruguay  2000  Developing           75.1000   \n1431  Lao People's Democratic Republic  2010  Developing           63.6000   \n1472                           Lebanon  2001  Developing           73.0000   \n1278                            Israel  2003  Developing           79.7000   \n2665                           Tunisia  2015  Developing           75.3000   \n488                           Cameroon  2007  Developing           53.6000   \n879                            Estonia  2002  Developing           71.2000   \n1625                              Mali  2008  Developing           55.5000   \n424                            Burundi  2007  Developing           54.8000   \n2567                        Tajikistan  2001  Developing           64.0000   \n2829                        Uzbekistan  2012  Developing           68.8000   \n1379                          Kiribati  2014  Developing           66.1000   \n2315                         Singapore  2013   Developed           82.7000   \n529                               Chad  2014  Developing           52.6000   \n\n      Adult Mortality  infant deaths  Alcohol  percentage expenditure  \\\n63            48.0000             97   1.8500                 15.8815   \n1106         215.0000              0      NaN                  0.0000   \n452          122.0000              0   5.0700                  4.4092   \n2895         233.0000             35   0.0600                  0.0000   \n863          343.0000              7   0.8300                  0.7031   \n2560         178.0000             10   0.3200                  4.1534   \n253           99.0000              1  11.2900                320.3178   \n1729         263.0000              2   2.4300                 55.6088   \n2197         186.0000              0   4.9400                  0.0000   \n71           142.0000              0   8.2700                180.7763   \n2807         115.0000             28   8.3300                  0.0000   \n997           71.0000              2  11.1800                839.9133   \n2287         182.0000              0   4.9400                 75.2257   \n1062         193.0000             11   2.1600                457.7746   \n1229         139.0000             28   0.0100                  0.0000   \n2825         131.0000              1   6.6500                645.9584   \n1431         218.0000             10   5.9500                  0.0000   \n1472          11.0000              1   2.1900                510.6035   \n1278          71.0000              1   2.3200               1731.7557   \n2665           1.0000              3      NaN                  0.0000   \n488          395.0000             57   5.4400                  7.5629   \n879          211.0000              0  11.4800                  7.8060   \n1625         278.0000             55   0.5700                102.1414   \n424          355.0000             24   4.5400                  1.7266   \n2567         194.0000             13   0.8600                  1.1420   \n2829         184.0000             18   0.0100                 16.7141   \n1379           2.0000              0   0.0100                 97.8719   \n2315          57.0000              0   1.8300                714.3441   \n529          362.0000             46   0.0100                 11.3021   \n\n      Hepatitis B  Measles   ...   Polio  Total expenditure  Diphtheria   \\\n63            NaN      2219  ...  3.0000             2.7900      28.0000   \n1106      95.0000         0  ... 92.0000                NaN      95.0000   \n452        9.0000         0  ...  9.0000             4.6000       9.0000   \n2895      76.0000       510  ... 77.0000             5.1700      76.0000   \n863       86.0000       460  ... 92.0000             4.2000       9.0000   \n2560      86.0000         0  ... 87.0000             5.5800      86.0000   \n253        6.0000         0  ... 96.0000             8.4600      95.0000   \n1729      98.0000      1205  ... 98.0000             5.8100      98.0000   \n2197          NaN         0  ... 99.0000             3.9300      99.0000   \n71        98.0000         0  ... 99.0000             4.6900      99.0000   \n2807      88.0000        41  ...  9.0000            14.5500      94.0000   \n997       88.0000       166  ... 94.0000             1.9900      95.0000   \n2287      99.0000         0  ... 99.0000             2.6400      99.0000   \n1062      88.0000         0  ... 88.0000             6.2800      88.0000   \n1229      95.0000         3  ... 98.0000             5.8900      99.0000   \n2825      92.0000         0  ... 92.0000             7.8200       9.0000   \n1431      74.0000       153  ... 76.0000             2.7500      74.0000   \n1472       8.0000         8  ...  8.0000             1.9000       8.0000   \n1278      98.0000       124  ... 93.0000             7.4400      93.0000   \n2665      98.0000        16  ... 98.0000                NaN      98.0000   \n488       82.0000       100  ... 81.0000             4.7600      82.0000   \n879           NaN         0  ... 94.0000             4.8400      94.0000   \n1625      74.0000        98  ... 74.0000             6.7400      74.0000   \n424       99.0000        43  ... 93.0000             1.3000      99.0000   \n2567          NaN        38  ... 84.0000             4.5900      85.0000   \n2829      99.0000         0  ... 99.0000             6.4900      99.0000   \n1379      75.0000         0  ... 79.0000             1.2100      75.0000   \n2315      97.0000       138  ... 97.0000             4.5300      97.0000   \n529       37.0000      1275  ... 44.0000             3.6200      37.0000   \n\n       HIV/AIDS        GDP    Population   thinness  1-19 years  \\\n63       2.0000   555.2969  1644924.0000                 1.9000   \n1106     0.3000  4136.6899   768514.0000                 5.5000   \n452      0.3000   367.4295     5867.0000                 7.3000   \n2895     0.1000        NaN           NaN                13.7000   \n863      1.9000    21.7688  3614639.0000                 9.9000   \n2560     0.3000    76.9141   739728.0000                 3.8000   \n253      0.1000  2552.3328  1332785.0000                 0.8000   \n1729     0.1000   571.5188  2443659.0000                 2.4000   \n2197     0.4000        NaN           NaN                 3.9000   \n71       0.1000  1473.3192           NaN                 3.4000   \n2807     0.1000        NaN           NaN                 0.8000   \n997      0.1000  4465.2489  8425823.0000                 1.1000   \n2287     0.1000   976.9566    87298.0000                 5.8000   \n1062     0.4000  3187.8453 14948919.0000                 1.2000   \n1229     0.1000        NaN           NaN                 7.4000   \n2825     0.1000  6871.8977  3321245.0000                 1.8000   \n1431     0.3000        NaN           NaN                 9.3000   \n1472     0.1000  5253.1226  3359859.0000                 4.9000   \n1278     0.1000 18946.9994    66897.0000                 1.1000   \n2665     0.1000  3828.9159 11273661.0000                 6.5000   \n488      7.0000   111.7119 18395389.0000                 6.6000   \n879      0.1000   538.3478   137935.0000                 2.3000   \n1625     1.6000   689.6784 14138216.0000                 9.2000   \n424      3.4000    17.7999  7939573.0000                 8.0000   \n2567     0.3000    17.8160  6327125.0000                 4.1000   \n2829     0.1000   174.4683   297745.0000                 3.0000   \n1379     0.1000  1684.5427    11458.0000                 0.1000   \n2315     0.1000  5629.1891           NaN                 2.2000   \n529      2.9000   125.9985 13569438.0000                 8.7000   \n\n       thinness 5-9 years  Income composition of resources  Schooling  \n63                 1.9000                           0.3820     4.6000  \n1106               5.3000                           0.6380    10.3000  \n452                7.2000                           0.6320    13.1000  \n2895              13.7000                           0.4880     8.5000  \n863                9.9000                           0.0000     4.4000  \n2560               3.8000                           0.5920    10.8000  \n253                0.8000                           0.8750    18.8000  \n1729               2.5000                           0.5990    10.1000  \n2197               3.8000                           0.6770    12.9000  \n71                 3.3000                           0.7860    14.4000  \n2807               0.6000                              NaN        NaN  \n997                1.1000                           0.9160    16.9000  \n2287               6.2000                           0.7390    13.2000  \n1062               1.2000                           0.6090    10.5000  \n1229               7.7000                           0.6860    11.8000  \n2825               1.7000                           0.7380    14.0000  \n1431               9.5000                           0.5350     9.6000  \n1472               4.7000                           0.0000    15.0000  \n1278               1.1000                           0.8630    16.0000  \n2665               6.4000                           0.7230    14.6000  \n488                6.6000                           0.4560     8.0000  \n879                2.4000                           0.7910    15.4000  \n1625               9.0000                           0.3600     5.8000  \n424                8.0000                           0.3090     7.2000  \n2567               4.1000                           0.5350     9.7000  \n2829               3.1000                           0.6730    12.0000  \n1379               0.1000                           0.5970    11.9000  \n2315               2.2000                           0.9200    15.4000  \n529                8.5000                           0.3900     7.3000  \n\n[29 rows x 22 columns]",
      "text/html": "<div>\n<style scoped>\n    .dataframe tbody tr th:only-of-type {\n        vertical-align: middle;\n    }\n\n    .dataframe tbody tr th {\n        vertical-align: top;\n    }\n\n    .dataframe thead th {\n        text-align: right;\n    }\n</style>\n<table border=\"1\" class=\"dataframe\">\n  <thead>\n    <tr style=\"text-align: right;\">\n      <th></th>\n      <th>Country</th>\n      <th>Year</th>\n      <th>Status</th>\n      <th>Life expectancy</th>\n      <th>Adult Mortality</th>\n      <th>infant deaths</th>\n      <th>Alcohol</th>\n      <th>percentage expenditure</th>\n      <th>Hepatitis B</th>\n      <th>Measles</th>\n      <th>...</th>\n      <th>Polio</th>\n      <th>Total expenditure</th>\n      <th>Diphtheria</th>\n      <th>HIV/AIDS</th>\n      <th>GDP</th>\n      <th>Population</th>\n      <th>thinness  1-19 years</th>\n      <th>thinness 5-9 years</th>\n      <th>Income composition of resources</th>\n      <th>Schooling</th>\n    </tr>\n  </thead>\n  <tbody>\n    <tr>\n      <th>63</th>\n      <td>Angola</td>\n      <td>2000</td>\n      <td>Developing</td>\n      <td>45.3000</td>\n      <td>48.0000</td>\n      <td>97</td>\n      <td>1.8500</td>\n      <td>15.8815</td>\n      <td>NaN</td>\n      <td>2219</td>\n      <td>...</td>\n      <td>3.0000</td>\n      <td>2.7900</td>\n      <td>28.0000</td>\n      <td>2.0000</td>\n      <td>555.2969</td>\n      <td>1644924.0000</td>\n      <td>1.9000</td>\n      <td>1.9000</td>\n      <td>0.3820</td>\n      <td>4.6000</td>\n    </tr>\n    <tr>\n      <th>1106</th>\n      <td>Guyana</td>\n      <td>2015</td>\n      <td>Developing</td>\n      <td>66.2000</td>\n      <td>215.0000</td>\n      <td>0</td>\n      <td>NaN</td>\n      <td>0.0000</td>\n      <td>95.0000</td>\n      <td>0</td>\n      <td>...</td>\n      <td>92.0000</td>\n      <td>NaN</td>\n      <td>95.0000</td>\n      <td>0.3000</td>\n      <td>4136.6899</td>\n      <td>768514.0000</td>\n      <td>5.5000</td>\n      <td>5.3000</td>\n      <td>0.6380</td>\n      <td>10.3000</td>\n    </tr>\n    <tr>\n      <th>452</th>\n      <td>Cabo Verde</td>\n      <td>2011</td>\n      <td>Developing</td>\n      <td>72.6000</td>\n      <td>122.0000</td>\n      <td>0</td>\n      <td>5.0700</td>\n      <td>4.4092</td>\n      <td>9.0000</td>\n      <td>0</td>\n      <td>...</td>\n      <td>9.0000</td>\n      <td>4.6000</td>\n      <td>9.0000</td>\n      <td>0.3000</td>\n      <td>367.4295</td>\n      <td>5867.0000</td>\n      <td>7.3000</td>\n      <td>7.2000</td>\n      <td>0.6320</td>\n      <td>13.1000</td>\n    </tr>\n    <tr>\n      <th>2895</th>\n      <td>Yemen</td>\n      <td>2010</td>\n      <td>Developing</td>\n      <td>64.4000</td>\n      <td>233.0000</td>\n      <td>35</td>\n      <td>0.0600</td>\n      <td>0.0000</td>\n      <td>76.0000</td>\n      <td>510</td>\n      <td>...</td>\n      <td>77.0000</td>\n      <td>5.1700</td>\n      <td>76.0000</td>\n      <td>0.1000</td>\n      <td>NaN</td>\n      <td>NaN</td>\n      <td>13.7000</td>\n      <td>13.7000</td>\n      <td>0.4880</td>\n      <td>8.5000</td>\n    </tr>\n    <tr>\n      <th>863</th>\n      <td>Eritrea</td>\n      <td>2002</td>\n      <td>Developing</td>\n      <td>58.5000</td>\n      <td>343.0000</td>\n      <td>7</td>\n      <td>0.8300</td>\n      <td>0.7031</td>\n      <td>86.0000</td>\n      <td>460</td>\n      <td>...</td>\n      <td>92.0000</td>\n      <td>4.2000</td>\n      <td>9.0000</td>\n      <td>1.9000</td>\n      <td>21.7688</td>\n      <td>3614639.0000</td>\n      <td>9.9000</td>\n      <td>9.9000</td>\n      <td>0.0000</td>\n      <td>4.4000</td>\n    </tr>\n    <tr>\n      <th>2560</th>\n      <td>Tajikistan</td>\n      <td>2008</td>\n      <td>Developing</td>\n      <td>66.4000</td>\n      <td>178.0000</td>\n      <td>10</td>\n      <td>0.3200</td>\n      <td>4.1534</td>\n      <td>86.0000</td>\n      <td>0</td>\n      <td>...</td>\n      <td>87.0000</td>\n      <td>5.5800</td>\n      <td>86.0000</td>\n      <td>0.3000</td>\n      <td>76.9141</td>\n      <td>739728.0000</td>\n      <td>3.8000</td>\n      <td>3.8000</td>\n      <td>0.5920</td>\n      <td>10.8000</td>\n    </tr>\n    <tr>\n      <th>253</th>\n      <td>Belgium</td>\n      <td>2002</td>\n      <td>Developed</td>\n      <td>78.0000</td>\n      <td>99.0000</td>\n      <td>1</td>\n      <td>11.2900</td>\n      <td>320.3178</td>\n      <td>6.0000</td>\n      <td>0</td>\n      <td>...</td>\n      <td>96.0000</td>\n      <td>8.4600</td>\n      <td>95.0000</td>\n      <td>0.1000</td>\n      <td>2552.3328</td>\n      <td>1332785.0000</td>\n      <td>0.8000</td>\n      <td>0.8000</td>\n      <td>0.8750</td>\n      <td>18.8000</td>\n    </tr>\n    <tr>\n      <th>1729</th>\n      <td>Mongolia</td>\n      <td>2002</td>\n      <td>Developing</td>\n      <td>63.8000</td>\n      <td>263.0000</td>\n      <td>2</td>\n      <td>2.4300</td>\n      <td>55.6088</td>\n      <td>98.0000</td>\n      <td>1205</td>\n      <td>...</td>\n      <td>98.0000</td>\n      <td>5.8100</td>\n      <td>98.0000</td>\n      <td>0.1000</td>\n      <td>571.5188</td>\n      <td>2443659.0000</td>\n      <td>2.4000</td>\n      <td>2.5000</td>\n      <td>0.5990</td>\n      <td>10.1000</td>\n    </tr>\n    <tr>\n      <th>2197</th>\n      <td>Saint Vincent and the Grenadines</td>\n      <td>2002</td>\n      <td>Developing</td>\n      <td>79.0000</td>\n      <td>186.0000</td>\n      <td>0</td>\n      <td>4.9400</td>\n      <td>0.0000</td>\n      <td>NaN</td>\n      <td>0</td>\n      <td>...</td>\n      <td>99.0000</td>\n      <td>3.9300</td>\n      <td>99.0000</td>\n      <td>0.4000</td>\n      <td>NaN</td>\n      <td>NaN</td>\n      <td>3.9000</td>\n      <td>3.8000</td>\n      <td>0.6770</td>\n      <td>12.9000</td>\n    </tr>\n    <tr>\n      <th>71</th>\n      <td>Antigua and Barbuda</td>\n      <td>2008</td>\n      <td>Developing</td>\n      <td>75.2000</td>\n      <td>142.0000</td>\n      <td>0</td>\n      <td>8.2700</td>\n      <td>180.7763</td>\n      <td>98.0000</td>\n      <td>0</td>\n      <td>...</td>\n      <td>99.0000</td>\n      <td>4.6900</td>\n      <td>99.0000</td>\n      <td>0.1000</td>\n      <td>1473.3192</td>\n      <td>NaN</td>\n      <td>3.4000</td>\n      <td>3.3000</td>\n      <td>0.7860</td>\n      <td>14.4000</td>\n    </tr>\n    <tr>\n      <th>2807</th>\n      <td>United States of America</td>\n      <td>2002</td>\n      <td>Developed</td>\n      <td>77.0000</td>\n      <td>115.0000</td>\n      <td>28</td>\n      <td>8.3300</td>\n      <td>0.0000</td>\n      <td>88.0000</td>\n      <td>41</td>\n      <td>...</td>\n      <td>9.0000</td>\n      <td>14.5500</td>\n      <td>94.0000</td>\n      <td>0.1000</td>\n      <td>NaN</td>\n      <td>NaN</td>\n      <td>0.8000</td>\n      <td>0.6000</td>\n      <td>NaN</td>\n      <td>NaN</td>\n    </tr>\n    <tr>\n      <th>997</th>\n      <td>Germany</td>\n      <td>2012</td>\n      <td>Developed</td>\n      <td>86.0000</td>\n      <td>71.0000</td>\n      <td>2</td>\n      <td>11.1800</td>\n      <td>839.9133</td>\n      <td>88.0000</td>\n      <td>166</td>\n      <td>...</td>\n      <td>94.0000</td>\n      <td>1.9900</td>\n      <td>95.0000</td>\n      <td>0.1000</td>\n      <td>4465.2489</td>\n      <td>8425823.0000</td>\n      <td>1.1000</td>\n      <td>1.1000</td>\n      <td>0.9160</td>\n      <td>16.9000</td>\n    </tr>\n    <tr>\n      <th>2287</th>\n      <td>Seychelles</td>\n      <td>2009</td>\n      <td>Developing</td>\n      <td>72.3000</td>\n      <td>182.0000</td>\n      <td>0</td>\n      <td>4.9400</td>\n      <td>75.2257</td>\n      <td>99.0000</td>\n      <td>0</td>\n      <td>...</td>\n      <td>99.0000</td>\n      <td>2.6400</td>\n      <td>99.0000</td>\n      <td>0.1000</td>\n      <td>976.9566</td>\n      <td>87298.0000</td>\n      <td>5.8000</td>\n      <td>6.2000</td>\n      <td>0.7390</td>\n      <td>13.2000</td>\n    </tr>\n    <tr>\n      <th>1062</th>\n      <td>Guatemala</td>\n      <td>2011</td>\n      <td>Developing</td>\n      <td>71.1000</td>\n      <td>193.0000</td>\n      <td>11</td>\n      <td>2.1600</td>\n      <td>457.7746</td>\n      <td>88.0000</td>\n      <td>0</td>\n      <td>...</td>\n      <td>88.0000</td>\n      <td>6.2800</td>\n      <td>88.0000</td>\n      <td>0.4000</td>\n      <td>3187.8453</td>\n      <td>14948919.0000</td>\n      <td>1.2000</td>\n      <td>1.2000</td>\n      <td>0.6090</td>\n      <td>10.5000</td>\n    </tr>\n    <tr>\n      <th>1229</th>\n      <td>Iran (Islamic Republic of)</td>\n      <td>2004</td>\n      <td>Developing</td>\n      <td>71.8000</td>\n      <td>139.0000</td>\n      <td>28</td>\n      <td>0.0100</td>\n      <td>0.0000</td>\n      <td>95.0000</td>\n      <td>3</td>\n      <td>...</td>\n      <td>98.0000</td>\n      <td>5.8900</td>\n      <td>99.0000</td>\n      <td>0.1000</td>\n      <td>NaN</td>\n      <td>NaN</td>\n      <td>7.4000</td>\n      <td>7.7000</td>\n      <td>0.6860</td>\n      <td>11.8000</td>\n    </tr>\n    <tr>\n      <th>2825</th>\n      <td>Uruguay</td>\n      <td>2000</td>\n      <td>Developing</td>\n      <td>75.1000</td>\n      <td>131.0000</td>\n      <td>1</td>\n      <td>6.6500</td>\n      <td>645.9584</td>\n      <td>92.0000</td>\n      <td>0</td>\n      <td>...</td>\n      <td>92.0000</td>\n      <td>7.8200</td>\n      <td>9.0000</td>\n      <td>0.1000</td>\n      <td>6871.8977</td>\n      <td>3321245.0000</td>\n      <td>1.8000</td>\n      <td>1.7000</td>\n      <td>0.7380</td>\n      <td>14.0000</td>\n    </tr>\n    <tr>\n      <th>1431</th>\n      <td>Lao People's Democratic Republic</td>\n      <td>2010</td>\n      <td>Developing</td>\n      <td>63.6000</td>\n      <td>218.0000</td>\n      <td>10</td>\n      <td>5.9500</td>\n      <td>0.0000</td>\n      <td>74.0000</td>\n      <td>153</td>\n      <td>...</td>\n      <td>76.0000</td>\n      <td>2.7500</td>\n      <td>74.0000</td>\n      <td>0.3000</td>\n      <td>NaN</td>\n      <td>NaN</td>\n      <td>9.3000</td>\n      <td>9.5000</td>\n      <td>0.5350</td>\n      <td>9.6000</td>\n    </tr>\n    <tr>\n      <th>1472</th>\n      <td>Lebanon</td>\n      <td>2001</td>\n      <td>Developing</td>\n      <td>73.0000</td>\n      <td>11.0000</td>\n      <td>1</td>\n      <td>2.1900</td>\n      <td>510.6035</td>\n      <td>8.0000</td>\n      <td>8</td>\n      <td>...</td>\n      <td>8.0000</td>\n      <td>1.9000</td>\n      <td>8.0000</td>\n      <td>0.1000</td>\n      <td>5253.1226</td>\n      <td>3359859.0000</td>\n      <td>4.9000</td>\n      <td>4.7000</td>\n      <td>0.0000</td>\n      <td>15.0000</td>\n    </tr>\n    <tr>\n      <th>1278</th>\n      <td>Israel</td>\n      <td>2003</td>\n      <td>Developing</td>\n      <td>79.7000</td>\n      <td>71.0000</td>\n      <td>1</td>\n      <td>2.3200</td>\n      <td>1731.7557</td>\n      <td>98.0000</td>\n      <td>124</td>\n      <td>...</td>\n      <td>93.0000</td>\n      <td>7.4400</td>\n      <td>93.0000</td>\n      <td>0.1000</td>\n      <td>18946.9994</td>\n      <td>66897.0000</td>\n      <td>1.1000</td>\n      <td>1.1000</td>\n      <td>0.8630</td>\n      <td>16.0000</td>\n    </tr>\n    <tr>\n      <th>2665</th>\n      <td>Tunisia</td>\n      <td>2015</td>\n      <td>Developing</td>\n      <td>75.3000</td>\n      <td>1.0000</td>\n      <td>3</td>\n      <td>NaN</td>\n      <td>0.0000</td>\n      <td>98.0000</td>\n      <td>16</td>\n      <td>...</td>\n      <td>98.0000</td>\n      <td>NaN</td>\n      <td>98.0000</td>\n      <td>0.1000</td>\n      <td>3828.9159</td>\n      <td>11273661.0000</td>\n      <td>6.5000</td>\n      <td>6.4000</td>\n      <td>0.7230</td>\n      <td>14.6000</td>\n    </tr>\n    <tr>\n      <th>488</th>\n      <td>Cameroon</td>\n      <td>2007</td>\n      <td>Developing</td>\n      <td>53.6000</td>\n      <td>395.0000</td>\n      <td>57</td>\n      <td>5.4400</td>\n      <td>7.5629</td>\n      <td>82.0000</td>\n      <td>100</td>\n      <td>...</td>\n      <td>81.0000</td>\n      <td>4.7600</td>\n      <td>82.0000</td>\n      <td>7.0000</td>\n      <td>111.7119</td>\n      <td>18395389.0000</td>\n      <td>6.6000</td>\n      <td>6.6000</td>\n      <td>0.4560</td>\n      <td>8.0000</td>\n    </tr>\n    <tr>\n      <th>879</th>\n      <td>Estonia</td>\n      <td>2002</td>\n      <td>Developing</td>\n      <td>71.2000</td>\n      <td>211.0000</td>\n      <td>0</td>\n      <td>11.4800</td>\n      <td>7.8060</td>\n      <td>NaN</td>\n      <td>0</td>\n      <td>...</td>\n      <td>94.0000</td>\n      <td>4.8400</td>\n      <td>94.0000</td>\n      <td>0.1000</td>\n      <td>538.3478</td>\n      <td>137935.0000</td>\n      <td>2.3000</td>\n      <td>2.4000</td>\n      <td>0.7910</td>\n      <td>15.4000</td>\n    </tr>\n    <tr>\n      <th>1625</th>\n      <td>Mali</td>\n      <td>2008</td>\n      <td>Developing</td>\n      <td>55.5000</td>\n      <td>278.0000</td>\n      <td>55</td>\n      <td>0.5700</td>\n      <td>102.1414</td>\n      <td>74.0000</td>\n      <td>98</td>\n      <td>...</td>\n      <td>74.0000</td>\n      <td>6.7400</td>\n      <td>74.0000</td>\n      <td>1.6000</td>\n      <td>689.6784</td>\n      <td>14138216.0000</td>\n      <td>9.2000</td>\n      <td>9.0000</td>\n      <td>0.3600</td>\n      <td>5.8000</td>\n    </tr>\n    <tr>\n      <th>424</th>\n      <td>Burundi</td>\n      <td>2007</td>\n      <td>Developing</td>\n      <td>54.8000</td>\n      <td>355.0000</td>\n      <td>24</td>\n      <td>4.5400</td>\n      <td>1.7266</td>\n      <td>99.0000</td>\n      <td>43</td>\n      <td>...</td>\n      <td>93.0000</td>\n      <td>1.3000</td>\n      <td>99.0000</td>\n      <td>3.4000</td>\n      <td>17.7999</td>\n      <td>7939573.0000</td>\n      <td>8.0000</td>\n      <td>8.0000</td>\n      <td>0.3090</td>\n      <td>7.2000</td>\n    </tr>\n    <tr>\n      <th>2567</th>\n      <td>Tajikistan</td>\n      <td>2001</td>\n      <td>Developing</td>\n      <td>64.0000</td>\n      <td>194.0000</td>\n      <td>13</td>\n      <td>0.8600</td>\n      <td>1.1420</td>\n      <td>NaN</td>\n      <td>38</td>\n      <td>...</td>\n      <td>84.0000</td>\n      <td>4.5900</td>\n      <td>85.0000</td>\n      <td>0.3000</td>\n      <td>17.8160</td>\n      <td>6327125.0000</td>\n      <td>4.1000</td>\n      <td>4.1000</td>\n      <td>0.5350</td>\n      <td>9.7000</td>\n    </tr>\n    <tr>\n      <th>2829</th>\n      <td>Uzbekistan</td>\n      <td>2012</td>\n      <td>Developing</td>\n      <td>68.8000</td>\n      <td>184.0000</td>\n      <td>18</td>\n      <td>0.0100</td>\n      <td>16.7141</td>\n      <td>99.0000</td>\n      <td>0</td>\n      <td>...</td>\n      <td>99.0000</td>\n      <td>6.4900</td>\n      <td>99.0000</td>\n      <td>0.1000</td>\n      <td>174.4683</td>\n      <td>297745.0000</td>\n      <td>3.0000</td>\n      <td>3.1000</td>\n      <td>0.6730</td>\n      <td>12.0000</td>\n    </tr>\n    <tr>\n      <th>1379</th>\n      <td>Kiribati</td>\n      <td>2014</td>\n      <td>Developing</td>\n      <td>66.1000</td>\n      <td>2.0000</td>\n      <td>0</td>\n      <td>0.0100</td>\n      <td>97.8719</td>\n      <td>75.0000</td>\n      <td>0</td>\n      <td>...</td>\n      <td>79.0000</td>\n      <td>1.2100</td>\n      <td>75.0000</td>\n      <td>0.1000</td>\n      <td>1684.5427</td>\n      <td>11458.0000</td>\n      <td>0.1000</td>\n      <td>0.1000</td>\n      <td>0.5970</td>\n      <td>11.9000</td>\n    </tr>\n    <tr>\n      <th>2315</th>\n      <td>Singapore</td>\n      <td>2013</td>\n      <td>Developed</td>\n      <td>82.7000</td>\n      <td>57.0000</td>\n      <td>0</td>\n      <td>1.8300</td>\n      <td>714.3441</td>\n      <td>97.0000</td>\n      <td>138</td>\n      <td>...</td>\n      <td>97.0000</td>\n      <td>4.5300</td>\n      <td>97.0000</td>\n      <td>0.1000</td>\n      <td>5629.1891</td>\n      <td>NaN</td>\n      <td>2.2000</td>\n      <td>2.2000</td>\n      <td>0.9200</td>\n      <td>15.4000</td>\n    </tr>\n    <tr>\n      <th>529</th>\n      <td>Chad</td>\n      <td>2014</td>\n      <td>Developing</td>\n      <td>52.6000</td>\n      <td>362.0000</td>\n      <td>46</td>\n      <td>0.0100</td>\n      <td>11.3021</td>\n      <td>37.0000</td>\n      <td>1275</td>\n      <td>...</td>\n      <td>44.0000</td>\n      <td>3.6200</td>\n      <td>37.0000</td>\n      <td>2.9000</td>\n      <td>125.9985</td>\n      <td>13569438.0000</td>\n      <td>8.7000</td>\n      <td>8.5000</td>\n      <td>0.3900</td>\n      <td>7.3000</td>\n    </tr>\n  </tbody>\n</table>\n<p>29 rows × 22 columns</p>\n</div>"
     },
     "execution_count": 179,
     "metadata": {},
     "output_type": "execute_result"
    }
   ],
   "source": [
    "df.sample(frac = 0.01)"
   ]
  },
  {
   "cell_type": "markdown",
   "id": "4641abf7fc6d1c41",
   "metadata": {
    "collapsed": false
   },
   "source": [
    "### Descriptive statistic\n"
   ]
  },
  {
   "cell_type": "code",
   "execution_count": 180,
   "id": "2713e80d84dfcfe4",
   "metadata": {
    "collapsed": false,
    "ExecuteTime": {
     "end_time": "2024-05-20T04:07:05.573974300Z",
     "start_time": "2024-05-20T04:07:05.475996300Z"
    }
   },
   "outputs": [
    {
     "data": {
      "text/plain": "                                    count          mean           std  \\\nYear                            2938.0000     2007.5187        4.6138   \nLife expectancy                 2928.0000       69.2249        9.5239   \nAdult Mortality                 2928.0000      164.7964      124.2921   \ninfant deaths                   2938.0000       30.3039      117.9265   \nAlcohol                         2744.0000        4.6029        4.0524   \npercentage expenditure          2938.0000      738.2513     1987.9149   \nHepatitis B                     2385.0000       80.9405       25.0700   \nMeasles                         2938.0000     2419.5922    11467.2725   \n BMI                            2904.0000       38.3212       20.0440   \nunder-five deaths               2938.0000       42.0357      160.4455   \nPolio                           2919.0000       82.5502       23.4280   \nTotal expenditure               2712.0000        5.9382        2.4983   \nDiphtheria                      2919.0000       82.3241       23.7169   \n HIV/AIDS                       2938.0000        1.7421        5.0778   \nGDP                             2490.0000     7483.1585    14270.1693   \nPopulation                      2286.0000 12753375.1201 61012096.5084   \n thinness  1-19 years           2904.0000        4.8397        4.4202   \n thinness 5-9 years             2904.0000        4.8703        4.5089   \nIncome composition of resources 2771.0000        0.6276        0.2109   \nSchooling                       2775.0000       11.9928        3.3589   \n\n                                      min         25%          50%  \\\nYear                            2000.0000   2004.0000    2008.0000   \nLife expectancy                   36.3000     63.1000      72.1000   \nAdult Mortality                    1.0000     74.0000     144.0000   \ninfant deaths                      0.0000      0.0000       3.0000   \nAlcohol                            0.0100      0.8775       3.7550   \npercentage expenditure             0.0000      4.6853      64.9129   \nHepatitis B                        1.0000     77.0000      92.0000   \nMeasles                            0.0000      0.0000      17.0000   \n BMI                               1.0000     19.3000      43.5000   \nunder-five deaths                  0.0000      0.0000       4.0000   \nPolio                              3.0000     78.0000      93.0000   \nTotal expenditure                  0.3700      4.2600       5.7550   \nDiphtheria                         2.0000     78.0000      93.0000   \n HIV/AIDS                          0.1000      0.1000       0.1000   \nGDP                                1.6813    463.9356    1766.9476   \nPopulation                        34.0000 195793.2500 1386542.0000   \n thinness  1-19 years              0.1000      1.6000       3.3000   \n thinness 5-9 years                0.1000      1.5000       3.3000   \nIncome composition of resources    0.0000      0.4930       0.6770   \nSchooling                          0.0000     10.1000      12.3000   \n\n                                         75%             max  \nYear                               2012.0000       2015.0000  \nLife expectancy                      75.7000         89.0000  \nAdult Mortality                     228.0000        723.0000  \ninfant deaths                        22.0000       1800.0000  \nAlcohol                               7.7025         17.8700  \npercentage expenditure              441.5341      19479.9116  \nHepatitis B                          97.0000         99.0000  \nMeasles                             360.2500     212183.0000  \n BMI                                 56.2000         87.3000  \nunder-five deaths                    28.0000       2500.0000  \nPolio                                97.0000         99.0000  \nTotal expenditure                     7.4925         17.6000  \nDiphtheria                           97.0000         99.0000  \n HIV/AIDS                             0.8000         50.6000  \nGDP                                5910.8063     119172.7418  \nPopulation                      7420359.0000 1293859294.0000  \n thinness  1-19 years                 7.2000         27.7000  \n thinness 5-9 years                   7.2000         28.6000  \nIncome composition of resources       0.7790          0.9480  \nSchooling                            14.3000         20.7000  ",
      "text/html": "<div>\n<style scoped>\n    .dataframe tbody tr th:only-of-type {\n        vertical-align: middle;\n    }\n\n    .dataframe tbody tr th {\n        vertical-align: top;\n    }\n\n    .dataframe thead th {\n        text-align: right;\n    }\n</style>\n<table border=\"1\" class=\"dataframe\">\n  <thead>\n    <tr style=\"text-align: right;\">\n      <th></th>\n      <th>count</th>\n      <th>mean</th>\n      <th>std</th>\n      <th>min</th>\n      <th>25%</th>\n      <th>50%</th>\n      <th>75%</th>\n      <th>max</th>\n    </tr>\n  </thead>\n  <tbody>\n    <tr>\n      <th>Year</th>\n      <td>2938.0000</td>\n      <td>2007.5187</td>\n      <td>4.6138</td>\n      <td>2000.0000</td>\n      <td>2004.0000</td>\n      <td>2008.0000</td>\n      <td>2012.0000</td>\n      <td>2015.0000</td>\n    </tr>\n    <tr>\n      <th>Life expectancy</th>\n      <td>2928.0000</td>\n      <td>69.2249</td>\n      <td>9.5239</td>\n      <td>36.3000</td>\n      <td>63.1000</td>\n      <td>72.1000</td>\n      <td>75.7000</td>\n      <td>89.0000</td>\n    </tr>\n    <tr>\n      <th>Adult Mortality</th>\n      <td>2928.0000</td>\n      <td>164.7964</td>\n      <td>124.2921</td>\n      <td>1.0000</td>\n      <td>74.0000</td>\n      <td>144.0000</td>\n      <td>228.0000</td>\n      <td>723.0000</td>\n    </tr>\n    <tr>\n      <th>infant deaths</th>\n      <td>2938.0000</td>\n      <td>30.3039</td>\n      <td>117.9265</td>\n      <td>0.0000</td>\n      <td>0.0000</td>\n      <td>3.0000</td>\n      <td>22.0000</td>\n      <td>1800.0000</td>\n    </tr>\n    <tr>\n      <th>Alcohol</th>\n      <td>2744.0000</td>\n      <td>4.6029</td>\n      <td>4.0524</td>\n      <td>0.0100</td>\n      <td>0.8775</td>\n      <td>3.7550</td>\n      <td>7.7025</td>\n      <td>17.8700</td>\n    </tr>\n    <tr>\n      <th>percentage expenditure</th>\n      <td>2938.0000</td>\n      <td>738.2513</td>\n      <td>1987.9149</td>\n      <td>0.0000</td>\n      <td>4.6853</td>\n      <td>64.9129</td>\n      <td>441.5341</td>\n      <td>19479.9116</td>\n    </tr>\n    <tr>\n      <th>Hepatitis B</th>\n      <td>2385.0000</td>\n      <td>80.9405</td>\n      <td>25.0700</td>\n      <td>1.0000</td>\n      <td>77.0000</td>\n      <td>92.0000</td>\n      <td>97.0000</td>\n      <td>99.0000</td>\n    </tr>\n    <tr>\n      <th>Measles</th>\n      <td>2938.0000</td>\n      <td>2419.5922</td>\n      <td>11467.2725</td>\n      <td>0.0000</td>\n      <td>0.0000</td>\n      <td>17.0000</td>\n      <td>360.2500</td>\n      <td>212183.0000</td>\n    </tr>\n    <tr>\n      <th>BMI</th>\n      <td>2904.0000</td>\n      <td>38.3212</td>\n      <td>20.0440</td>\n      <td>1.0000</td>\n      <td>19.3000</td>\n      <td>43.5000</td>\n      <td>56.2000</td>\n      <td>87.3000</td>\n    </tr>\n    <tr>\n      <th>under-five deaths</th>\n      <td>2938.0000</td>\n      <td>42.0357</td>\n      <td>160.4455</td>\n      <td>0.0000</td>\n      <td>0.0000</td>\n      <td>4.0000</td>\n      <td>28.0000</td>\n      <td>2500.0000</td>\n    </tr>\n    <tr>\n      <th>Polio</th>\n      <td>2919.0000</td>\n      <td>82.5502</td>\n      <td>23.4280</td>\n      <td>3.0000</td>\n      <td>78.0000</td>\n      <td>93.0000</td>\n      <td>97.0000</td>\n      <td>99.0000</td>\n    </tr>\n    <tr>\n      <th>Total expenditure</th>\n      <td>2712.0000</td>\n      <td>5.9382</td>\n      <td>2.4983</td>\n      <td>0.3700</td>\n      <td>4.2600</td>\n      <td>5.7550</td>\n      <td>7.4925</td>\n      <td>17.6000</td>\n    </tr>\n    <tr>\n      <th>Diphtheria</th>\n      <td>2919.0000</td>\n      <td>82.3241</td>\n      <td>23.7169</td>\n      <td>2.0000</td>\n      <td>78.0000</td>\n      <td>93.0000</td>\n      <td>97.0000</td>\n      <td>99.0000</td>\n    </tr>\n    <tr>\n      <th>HIV/AIDS</th>\n      <td>2938.0000</td>\n      <td>1.7421</td>\n      <td>5.0778</td>\n      <td>0.1000</td>\n      <td>0.1000</td>\n      <td>0.1000</td>\n      <td>0.8000</td>\n      <td>50.6000</td>\n    </tr>\n    <tr>\n      <th>GDP</th>\n      <td>2490.0000</td>\n      <td>7483.1585</td>\n      <td>14270.1693</td>\n      <td>1.6813</td>\n      <td>463.9356</td>\n      <td>1766.9476</td>\n      <td>5910.8063</td>\n      <td>119172.7418</td>\n    </tr>\n    <tr>\n      <th>Population</th>\n      <td>2286.0000</td>\n      <td>12753375.1201</td>\n      <td>61012096.5084</td>\n      <td>34.0000</td>\n      <td>195793.2500</td>\n      <td>1386542.0000</td>\n      <td>7420359.0000</td>\n      <td>1293859294.0000</td>\n    </tr>\n    <tr>\n      <th>thinness  1-19 years</th>\n      <td>2904.0000</td>\n      <td>4.8397</td>\n      <td>4.4202</td>\n      <td>0.1000</td>\n      <td>1.6000</td>\n      <td>3.3000</td>\n      <td>7.2000</td>\n      <td>27.7000</td>\n    </tr>\n    <tr>\n      <th>thinness 5-9 years</th>\n      <td>2904.0000</td>\n      <td>4.8703</td>\n      <td>4.5089</td>\n      <td>0.1000</td>\n      <td>1.5000</td>\n      <td>3.3000</td>\n      <td>7.2000</td>\n      <td>28.6000</td>\n    </tr>\n    <tr>\n      <th>Income composition of resources</th>\n      <td>2771.0000</td>\n      <td>0.6276</td>\n      <td>0.2109</td>\n      <td>0.0000</td>\n      <td>0.4930</td>\n      <td>0.6770</td>\n      <td>0.7790</td>\n      <td>0.9480</td>\n    </tr>\n    <tr>\n      <th>Schooling</th>\n      <td>2775.0000</td>\n      <td>11.9928</td>\n      <td>3.3589</td>\n      <td>0.0000</td>\n      <td>10.1000</td>\n      <td>12.3000</td>\n      <td>14.3000</td>\n      <td>20.7000</td>\n    </tr>\n  </tbody>\n</table>\n</div>"
     },
     "execution_count": 180,
     "metadata": {},
     "output_type": "execute_result"
    }
   ],
   "source": [
    "df.describe().T"
   ]
  },
  {
   "cell_type": "code",
   "outputs": [],
   "source": [
    "# rename the columns\n",
    "df.columns = ['Country', 'Year', 'Status', 'Life expectancy', 'Adult Mortality',\n",
    "       'infant deaths', 'Alcohol', 'percentage expenditure', 'Hepatitis B',\n",
    "       'Measles', 'BMI', 'under-five deaths', 'Polio', 'Total expenditure',\n",
    "       'Diphtheria', 'HIV/AIDS', 'GDP', 'Population', 'thinness 1-19 years',\n",
    "       'thinness 5-9 years', 'Income composition of resources', 'Schooling']"
   ],
   "metadata": {
    "collapsed": false,
    "ExecuteTime": {
     "end_time": "2024-05-20T04:07:05.647210300Z",
     "start_time": "2024-05-20T04:07:05.525007600Z"
    }
   },
   "id": "9ed9520ce437d189",
   "execution_count": 181
  },
  {
   "cell_type": "code",
   "outputs": [
    {
     "name": "stdout",
     "output_type": "stream",
     "text": [
      "<class 'pandas.core.frame.DataFrame'>\n",
      "RangeIndex: 2938 entries, 0 to 2937\n",
      "Data columns (total 22 columns):\n",
      " #   Column                           Non-Null Count  Dtype  \n",
      "---  ------                           --------------  -----  \n",
      " 0   Country                          2938 non-null   object \n",
      " 1   Year                             2938 non-null   int64  \n",
      " 2   Status                           2938 non-null   object \n",
      " 3   Life expectancy                  2928 non-null   float64\n",
      " 4   Adult Mortality                  2928 non-null   float64\n",
      " 5   infant deaths                    2938 non-null   int64  \n",
      " 6   Alcohol                          2744 non-null   float64\n",
      " 7   percentage expenditure           2938 non-null   float64\n",
      " 8   Hepatitis B                      2385 non-null   float64\n",
      " 9   Measles                          2938 non-null   int64  \n",
      " 10  BMI                              2904 non-null   float64\n",
      " 11  under-five deaths                2938 non-null   int64  \n",
      " 12  Polio                            2919 non-null   float64\n",
      " 13  Total expenditure                2712 non-null   float64\n",
      " 14  Diphtheria                       2919 non-null   float64\n",
      " 15  HIV/AIDS                         2938 non-null   float64\n",
      " 16  GDP                              2490 non-null   float64\n",
      " 17  Population                       2286 non-null   float64\n",
      " 18  thinness 1-19 years              2904 non-null   float64\n",
      " 19  thinness 5-9 years               2904 non-null   float64\n",
      " 20  Income composition of resources  2771 non-null   float64\n",
      " 21  Schooling                        2775 non-null   float64\n",
      "dtypes: float64(16), int64(4), object(2)\n",
      "memory usage: 505.1+ KB\n"
     ]
    }
   ],
   "source": [
    "df.info()"
   ],
   "metadata": {
    "collapsed": false,
    "ExecuteTime": {
     "end_time": "2024-05-20T04:07:05.761570400Z",
     "start_time": "2024-05-20T04:07:05.621972Z"
    }
   },
   "id": "d1a4857b2397a5f5",
   "execution_count": 182
  },
  {
   "cell_type": "markdown",
   "source": [
    "##### Numerical variable: dtypes: float64(16), int64(4)\n",
    "##### Categorical variable: object(2)"
   ],
   "metadata": {
    "collapsed": false
   },
   "id": "364daef0c6bcbe4"
  },
  {
   "cell_type": "code",
   "outputs": [],
   "source": [
    "df_categorical = df[['Country', 'Status']]\n",
    "df_numerical = df[['Year', 'Life expectancy', 'Adult Mortality','infant deaths', 'Alcohol', 'percentage expenditure', 'Hepatitis B','Measles', 'BMI', 'under-five deaths','Polio', 'Total expenditure','Diphtheria','HIV/AIDS', 'GDP', 'Population', 'thinness 1-19 years', 'thinness 5-9 years', 'Income composition of resources', 'Schooling']]"
   ],
   "metadata": {
    "collapsed": false,
    "ExecuteTime": {
     "end_time": "2024-05-20T04:07:05.801501700Z",
     "start_time": "2024-05-20T04:07:05.744206100Z"
    }
   },
   "id": "7217d4c05091e595",
   "execution_count": 183
  },
  {
   "cell_type": "code",
   "outputs": [
    {
     "data": {
      "text/plain": "<Figure size 500x800 with 1 Axes>",
      "image/png": "[encoded data removed]"
     },
     "metadata": {},
     "output_type": "display_data"
    }
   ],
   "source": [
    "# construct a freq piechart for each categorical data\n",
    "import matplotlib.pyplot as plt\n",
    "import seaborn as sns\n",
    "\n",
    "plt.figure(figsize = (5, 8))\n",
    "x = df['Status'].value_counts().reset_index()\n",
    "plt.pie(x=x['count'], labels=x['Status'], autopct=\"%0.1f%%\")\n",
    "plt.title('Status')\n",
    "plt.tight_layout()\n",
    "plt.show()"
   ],
   "metadata": {
    "collapsed": false,
    "ExecuteTime": {
     "end_time": "2024-05-20T04:11:55.552654700Z",
     "start_time": "2024-05-20T04:11:55.469321100Z"
    }
   },
   "id": "65edfc71abeb331d",
   "execution_count": 192
  },
  {
   "cell_type": "code",
   "outputs": [],
   "source": [],
   "metadata": {
    "collapsed": false
   },
   "id": "36a0d6ae13cb7b46"
  },
  {
   "cell_type": "markdown",
   "id": "VXUvhNtfmirk",
   "metadata": {
    "id": "VXUvhNtfmirk"
   },
   "source": [
    "# **Data Preprocessing**\n",
    "Data cleaning refers to the process of removing unwanted variables and values from your dataset and getting rid of any irregularities in it. Such anomalies can disproportionately skew the data and hence adversely affect the results. Some steps that can be done to clean data are:\n",
    "\n",
    "\n",
    "\n",
    "\n",
    "\n",
    "* Removing missing values, outliers, and unnecessary rows/ columns.\n",
    "* Re-indexing and reformatting our data."
   ]
  },
  {
   "cell_type": "code",
   "execution_count": 185,
   "id": "780cf2c4bd8b7299",
   "metadata": {
    "colab": {
     "base_uri": "https://localhost:8080/"
    },
    "id": "780cf2c4bd8b7299",
    "outputId": "64087314-7e87-4156-d184-07906f2a5dec",
    "ExecuteTime": {
     "end_time": "2024-05-20T04:07:07.536412300Z",
     "start_time": "2024-05-20T04:07:07.532191100Z"
    }
   },
   "outputs": [
    {
     "data": {
      "text/plain": "Country                              0\nYear                                 0\nStatus                               0\nLife expectancy                     10\nAdult Mortality                     10\ninfant deaths                        0\nAlcohol                            194\npercentage expenditure               0\nHepatitis B                        553\nMeasles                              0\nBMI                                 34\nunder-five deaths                    0\nPolio                               19\nTotal expenditure                  226\nDiphtheria                          19\nHIV/AIDS                             0\nGDP                                448\nPopulation                         652\nthinness 1-19 years                 34\nthinness 5-9 years                  34\nIncome composition of resources    167\nSchooling                          163\ndtype: int64"
     },
     "execution_count": 185,
     "metadata": {},
     "output_type": "execute_result"
    }
   ],
   "source": [
    "#check to see the number of missing values in each column\n",
    "df.isna().sum()\n"
   ]
  },
  {
   "cell_type": "code",
   "execution_count": 185,
   "id": "7c7b3f36",
   "metadata": {
    "ExecuteTime": {
     "end_time": "2024-05-20T04:07:07.546316300Z",
     "start_time": "2024-05-20T04:07:07.535412500Z"
    }
   },
   "outputs": [],
   "source": []
  },
  {
   "cell_type": "code",
   "execution_count": 186,
   "id": "f0ceac04",
   "metadata": {
    "ExecuteTime": {
     "end_time": "2024-05-20T04:07:07.547334100Z",
     "start_time": "2024-05-20T04:07:07.539967Z"
    }
   },
   "outputs": [],
   "source": [
    "# rename the columns\n",
    "df.columns = ['Country', 'Year', 'Status', 'Life expectancy', 'Adult Mortality',\n",
    "       'infant deaths', 'Alcohol', 'percentage expenditure', 'Hepatitis B',\n",
    "       'Measles', 'BMI', 'under-five deaths', 'Polio', 'Total expenditure',\n",
    "       'Diphtheria', 'HIV/AIDS', 'GDP', 'Population', 'thinness 1-19 years',\n",
    "       'thinness 5-9 years', 'Income composition of resources', 'Schooling']"
   ]
  },
  {
   "cell_type": "code",
   "execution_count": 187,
   "id": "200229c53dcb0d8c",
   "metadata": {
    "colab": {
     "base_uri": "https://localhost:8080/"
    },
    "id": "200229c53dcb0d8c",
    "outputId": "798681fb-9f91-4a2d-9fb8-183524ae0033",
    "ExecuteTime": {
     "end_time": "2024-05-20T04:07:07.605368500Z",
     "start_time": "2024-05-20T04:07:07.544316600Z"
    }
   },
   "outputs": [
    {
     "ename": "KeyError",
     "evalue": "\"['Life expectancy '] not in index\"",
     "output_type": "error",
     "traceback": [
      "\u001B[1;31m---------------------------------------------------------------------------\u001B[0m",
      "\u001B[1;31mKeyError\u001B[0m                                  Traceback (most recent call last)",
      "Cell \u001B[1;32mIn[187], line 8\u001B[0m\n\u001B[0;32m      5\u001B[0m df_main \u001B[38;5;241m=\u001B[39m df\u001B[38;5;241m.\u001B[39mcopy()\n\u001B[0;32m      7\u001B[0m \u001B[38;5;66;03m# Interpolating specific columns\u001B[39;00m\n\u001B[1;32m----> 8\u001B[0m filled_col \u001B[38;5;241m=\u001B[39m \u001B[43mdf\u001B[49m\u001B[43m[\u001B[49m\u001B[43m[\u001B[49m\u001B[38;5;124;43m'\u001B[39;49m\u001B[38;5;124;43mLife expectancy \u001B[39;49m\u001B[38;5;124;43m'\u001B[39;49m\u001B[43m,\u001B[49m\u001B[43m \u001B[49m\u001B[38;5;124;43m'\u001B[39;49m\u001B[38;5;124;43mAdult Mortality\u001B[39;49m\u001B[38;5;124;43m'\u001B[39;49m\u001B[43m,\u001B[49m\u001B[43m \u001B[49m\u001B[38;5;124;43m'\u001B[39;49m\u001B[38;5;124;43mAlcohol\u001B[39;49m\u001B[38;5;124;43m'\u001B[39;49m\u001B[43m,\u001B[49m\u001B[43m \u001B[49m\u001B[38;5;124;43m'\u001B[39;49m\u001B[38;5;124;43mHepatitis B\u001B[39;49m\u001B[38;5;124;43m'\u001B[39;49m\u001B[43m]\u001B[49m\u001B[43m]\u001B[49m\u001B[38;5;241m.\u001B[39minterpolate()\n\u001B[0;32m     10\u001B[0m \u001B[38;5;66;03m# Correctly assigning interpolated columns back to df_main\u001B[39;00m\n\u001B[0;32m     11\u001B[0m df_main[\u001B[38;5;124m'\u001B[39m\u001B[38;5;124mLife expectancy \u001B[39m\u001B[38;5;124m'\u001B[39m] \u001B[38;5;241m=\u001B[39m filled_col[\u001B[38;5;124m'\u001B[39m\u001B[38;5;124mLife expectancy \u001B[39m\u001B[38;5;124m'\u001B[39m]\n",
      "File \u001B[1;32m~\\AppData\\Local\\Programs\\Python\\Python312\\Lib\\site-packages\\pandas\\core\\frame.py:4096\u001B[0m, in \u001B[0;36mDataFrame.__getitem__\u001B[1;34m(self, key)\u001B[0m\n\u001B[0;32m   4094\u001B[0m     \u001B[38;5;28;01mif\u001B[39;00m is_iterator(key):\n\u001B[0;32m   4095\u001B[0m         key \u001B[38;5;241m=\u001B[39m \u001B[38;5;28mlist\u001B[39m(key)\n\u001B[1;32m-> 4096\u001B[0m     indexer \u001B[38;5;241m=\u001B[39m \u001B[38;5;28;43mself\u001B[39;49m\u001B[38;5;241;43m.\u001B[39;49m\u001B[43mcolumns\u001B[49m\u001B[38;5;241;43m.\u001B[39;49m\u001B[43m_get_indexer_strict\u001B[49m\u001B[43m(\u001B[49m\u001B[43mkey\u001B[49m\u001B[43m,\u001B[49m\u001B[43m \u001B[49m\u001B[38;5;124;43m\"\u001B[39;49m\u001B[38;5;124;43mcolumns\u001B[39;49m\u001B[38;5;124;43m\"\u001B[39;49m\u001B[43m)\u001B[49m[\u001B[38;5;241m1\u001B[39m]\n\u001B[0;32m   4098\u001B[0m \u001B[38;5;66;03m# take() does not accept boolean indexers\u001B[39;00m\n\u001B[0;32m   4099\u001B[0m \u001B[38;5;28;01mif\u001B[39;00m \u001B[38;5;28mgetattr\u001B[39m(indexer, \u001B[38;5;124m\"\u001B[39m\u001B[38;5;124mdtype\u001B[39m\u001B[38;5;124m\"\u001B[39m, \u001B[38;5;28;01mNone\u001B[39;00m) \u001B[38;5;241m==\u001B[39m \u001B[38;5;28mbool\u001B[39m:\n",
      "File \u001B[1;32m~\\AppData\\Local\\Programs\\Python\\Python312\\Lib\\site-packages\\pandas\\core\\indexes\\base.py:6200\u001B[0m, in \u001B[0;36mIndex._get_indexer_strict\u001B[1;34m(self, key, axis_name)\u001B[0m\n\u001B[0;32m   6197\u001B[0m \u001B[38;5;28;01melse\u001B[39;00m:\n\u001B[0;32m   6198\u001B[0m     keyarr, indexer, new_indexer \u001B[38;5;241m=\u001B[39m \u001B[38;5;28mself\u001B[39m\u001B[38;5;241m.\u001B[39m_reindex_non_unique(keyarr)\n\u001B[1;32m-> 6200\u001B[0m \u001B[38;5;28;43mself\u001B[39;49m\u001B[38;5;241;43m.\u001B[39;49m\u001B[43m_raise_if_missing\u001B[49m\u001B[43m(\u001B[49m\u001B[43mkeyarr\u001B[49m\u001B[43m,\u001B[49m\u001B[43m \u001B[49m\u001B[43mindexer\u001B[49m\u001B[43m,\u001B[49m\u001B[43m \u001B[49m\u001B[43maxis_name\u001B[49m\u001B[43m)\u001B[49m\n\u001B[0;32m   6202\u001B[0m keyarr \u001B[38;5;241m=\u001B[39m \u001B[38;5;28mself\u001B[39m\u001B[38;5;241m.\u001B[39mtake(indexer)\n\u001B[0;32m   6203\u001B[0m \u001B[38;5;28;01mif\u001B[39;00m \u001B[38;5;28misinstance\u001B[39m(key, Index):\n\u001B[0;32m   6204\u001B[0m     \u001B[38;5;66;03m# GH 42790 - Preserve name from an Index\u001B[39;00m\n",
      "File \u001B[1;32m~\\AppData\\Local\\Programs\\Python\\Python312\\Lib\\site-packages\\pandas\\core\\indexes\\base.py:6252\u001B[0m, in \u001B[0;36mIndex._raise_if_missing\u001B[1;34m(self, key, indexer, axis_name)\u001B[0m\n\u001B[0;32m   6249\u001B[0m     \u001B[38;5;28;01mraise\u001B[39;00m \u001B[38;5;167;01mKeyError\u001B[39;00m(\u001B[38;5;124mf\u001B[39m\u001B[38;5;124m\"\u001B[39m\u001B[38;5;124mNone of [\u001B[39m\u001B[38;5;132;01m{\u001B[39;00mkey\u001B[38;5;132;01m}\u001B[39;00m\u001B[38;5;124m] are in the [\u001B[39m\u001B[38;5;132;01m{\u001B[39;00maxis_name\u001B[38;5;132;01m}\u001B[39;00m\u001B[38;5;124m]\u001B[39m\u001B[38;5;124m\"\u001B[39m)\n\u001B[0;32m   6251\u001B[0m not_found \u001B[38;5;241m=\u001B[39m \u001B[38;5;28mlist\u001B[39m(ensure_index(key)[missing_mask\u001B[38;5;241m.\u001B[39mnonzero()[\u001B[38;5;241m0\u001B[39m]]\u001B[38;5;241m.\u001B[39munique())\n\u001B[1;32m-> 6252\u001B[0m \u001B[38;5;28;01mraise\u001B[39;00m \u001B[38;5;167;01mKeyError\u001B[39;00m(\u001B[38;5;124mf\u001B[39m\u001B[38;5;124m\"\u001B[39m\u001B[38;5;132;01m{\u001B[39;00mnot_found\u001B[38;5;132;01m}\u001B[39;00m\u001B[38;5;124m not in index\u001B[39m\u001B[38;5;124m\"\u001B[39m)\n",
      "\u001B[1;31mKeyError\u001B[0m: \"['Life expectancy '] not in index\""
     ]
    }
   ],
   "source": [
    "# Reinformation\n",
    "df = pd.DataFrame(df)\n",
    "\n",
    "# Assuming df_main should be a copy of df before interpolation (if needed)\n",
    "df_main = df.copy()\n",
    "\n",
    "# Interpolating specific columns\n",
    "filled_col = df[['Life expectancy ', 'Adult Mortality', 'Alcohol', 'Hepatitis B']].interpolate()\n",
    "\n",
    "# Correctly assigning interpolated columns back to df_main\n",
    "df_main['Life expectancy '] = filled_col['Life expectancy ']\n",
    "df_main['Adult Mortality'] = filled_col['Adult Mortality']\n",
    "df_main['Alcohol'] = filled_col['Alcohol']\n",
    "df_main['Hepatitis B'] = filled_col['Hepatitis B']\n",
    "\n",
    "df_main"
   ]
  },
  {
   "cell_type": "markdown",
   "id": "67e428a1d5639b04",
   "metadata": {
    "collapsed": false
   },
   "source": [
    "### Check descriptive statistical again"
   ]
  },
  {
   "cell_type": "code",
   "execution_count": null,
   "id": "e0607cff8544b24",
   "metadata": {
    "collapsed": false,
    "ExecuteTime": {
     "start_time": "2024-05-20T04:07:07.586369100Z"
    }
   },
   "outputs": [],
   "source": [
    "df_main.describe()"
   ]
  },
  {
   "cell_type": "code",
   "outputs": [],
   "source": [
    "df_main.info()"
   ],
   "metadata": {
    "collapsed": false,
    "ExecuteTime": {
     "start_time": "2024-05-20T04:07:07.588367900Z"
    }
   },
   "id": "ad1ad2dc147eea34",
   "execution_count": null
  },
  {
   "cell_type": "code",
   "outputs": [],
   "source": [],
   "metadata": {
    "collapsed": false,
    "ExecuteTime": {
     "start_time": "2024-05-20T04:07:07.589367900Z"
    }
   },
   "id": "2024e34bfcca1893",
   "execution_count": null
  },
  {
   "cell_type": "markdown",
   "id": "6lGTK0sin5rS",
   "metadata": {
    "id": "6lGTK0sin5rS"
   },
   "source": [
    "# **Univariate Analysis**\n",
    "In Univariate Analysis, we analyze data of just one variable. A variable in your dataset refers to a single feature/ column. It can be done either with graphical or non-graphical means by finding specific mathematical values in the data. Some visual methods include:\n",
    "\n",
    "* Histograms: Bar plots in which the frequency of data is represented with rectangle bars.\n",
    "* Box-plots: Here the information is represented in the form of boxes."
   ]
  },
  {
   "cell_type": "code",
   "execution_count": null,
   "id": "d30fe4d0556dcd7d",
   "metadata": {
    "colab": {
     "base_uri": "https://localhost:8080/"
    },
    "id": "d30fe4d0556dcd7d",
    "outputId": "c07102d7-6d31-47a3-feb7-9ff9dbf34ffe",
    "ExecuteTime": {
     "start_time": "2024-05-20T04:07:07.592369100Z"
    }
   },
   "outputs": [],
   "source": [
    "freq_table = pd.pivot_table(df_main, index='Year', columns= 'Status', aggfunc='size')\n",
    "print(freq_table)"
   ]
  },
  {
   "cell_type": "code",
   "execution_count": null,
   "id": "a88dcc55fe0687ce",
   "metadata": {
    "colab": {
     "base_uri": "https://localhost:8080/",
     "height": 585
    },
    "id": "a88dcc55fe0687ce",
    "outputId": "9d061134-8a4c-4b11-9a39-d9d4664e899f",
    "ExecuteTime": {
     "start_time": "2024-05-20T04:07:07.595377Z"
    }
   },
   "outputs": [],
   "source": [
    "import matplotlib.pyplot as plt\n",
    "\n",
    "# Plotting\n",
    "freq_table.plot(kind='bar', stacked=True, figsize=(10, 6))\n",
    "plt.title('Number of Developed vs Developing Countries by Year')\n",
    "plt.xlabel('Year')\n",
    "plt.ylabel('Number of Countries')\n",
    "plt.legend(title='Status')\n",
    "plt.show()\n"
   ]
  },
  {
   "cell_type": "code",
   "execution_count": null,
   "id": "1620cb86a00628f6",
   "metadata": {
    "colab": {
     "base_uri": "https://localhost:8080/",
     "height": 703
    },
    "id": "1620cb86a00628f6",
    "outputId": "6035b404-c606-4425-ef9b-2c22472efa26",
    "ExecuteTime": {
     "start_time": "2024-05-20T04:07:07.598369Z"
    }
   },
   "outputs": [],
   "source": [
    "import pandas as pd\n",
    "import matplotlib.pyplot as plt\n",
    "import seaborn as sns\n",
    "from scipy.stats import shapiro\n",
    "# Assuming df is your DataFrame and 'Category' is your categorical column\n",
    "category_counts = df_main['Status'].value_counts()\n",
    "\n",
    "# Print frequency table\n",
    "print(\"Frequency Table:\")\n",
    "print(category_counts)\n",
    "\n",
    "# Plotting bar chart\n",
    "plt.figure(figsize=(10, 6))\n",
    "sns.barplot(x=category_counts.index, y=category_counts.values)\n",
    "plt.title('Frequency Distribution of Category')\n",
    "plt.xlabel('Category')\n",
    "plt.ylabel('Frequency')\n",
    "plt.xticks(rotation=45)  # Rotating the labels if they overlap\n",
    "plt.show()\n"
   ]
  },
  {
   "cell_type": "code",
   "execution_count": null,
   "id": "2dd5a8437ce0719d",
   "metadata": {
    "colab": {
     "base_uri": "https://localhost:8080/",
     "height": 308
    },
    "id": "2dd5a8437ce0719d",
    "outputId": "e5941f7a-c37a-4b51-8c54-f930717fe4de",
    "ExecuteTime": {
     "start_time": "2024-05-20T04:07:07.601367800Z"
    }
   },
   "outputs": [],
   "source": [
    "df_main.head()"
   ]
  },
  {
   "cell_type": "code",
   "execution_count": null,
   "id": "aac2a1105ed79b9b",
   "metadata": {
    "colab": {
     "base_uri": "https://localhost:8080/",
     "height": 1000
    },
    "id": "aac2a1105ed79b9b",
    "outputId": "9865c7f0-6bda-4295-c070-99560558c1f9",
    "ExecuteTime": {
     "start_time": "2024-05-20T04:07:07.604368600Z"
    }
   },
   "outputs": [],
   "source": [
    "# Selecting quantitative variables\n",
    "quantitative_vars = ['Life expectancy ', 'Adult Mortality', 'Schooling']\n",
    "\n",
    "# Plot histograms and calculate summary statistics for each quantitative variable\n",
    "for var in quantitative_vars:\n",
    "    # Histogram\n",
    "    plt.figure(figsize=(10, 4))\n",
    "    sns.histplot(df_main[var], kde=True)\n",
    "    plt.title(f'Distribution of {var}')\n",
    "    plt.xlabel(var)\n",
    "    plt.ylabel('Frequency')\n",
    "    plt.show()\n",
    "    #normality test\n",
    "    stat, p = shapiro(df_main[var])\n",
    "    alpha = 0.05\n",
    "    if p > alpha:\n",
    "      print('Sample looks normal distributed (fail to reject H0)')\n",
    "    else:\n",
    "      print('Sample does not normal distributed (reject H0)')\n"
   ]
  },
  {
   "cell_type": "markdown",
   "id": "Vf0vAC4KotyS",
   "metadata": {
    "id": "Vf0vAC4KotyS"
   },
   "source": [
    "# **Bivariate Analysis**\n",
    " Using two variables and compare them. This way, we can find how one feature affects the other. It is done with scatter plots, which plot individual data points or correlation matrices that plot the correlation in hues. We can also use boxplots.\n",
    "          "
   ]
  },
  {
   "cell_type": "code",
   "execution_count": null,
   "id": "e4197517ce002fca",
   "metadata": {
    "colab": {
     "base_uri": "https://localhost:8080/"
    },
    "id": "e4197517ce002fca",
    "outputId": "f69c8af9-2dc7-473a-8e42-6abc6f5e3a2e",
    "ExecuteTime": {
     "end_time": "2024-05-20T04:07:07.626378700Z",
     "start_time": "2024-05-20T04:07:07.607368900Z"
    }
   },
   "outputs": [],
   "source": [
    "print(df_main.columns)"
   ]
  },
  {
   "cell_type": "code",
   "execution_count": null,
   "id": "fcd99fdbeb358eb9",
   "metadata": {
    "colab": {
     "base_uri": "https://localhost:8080/",
     "height": 1000
    },
    "id": "fcd99fdbeb358eb9",
    "outputId": "3474fcec-89f5-4b47-e774-33125897252e",
    "ExecuteTime": {
     "start_time": "2024-05-20T04:07:07.610376200Z"
    }
   },
   "outputs": [],
   "source": [
    "# Remove trailing spaces and standardize capitalization\n",
    "df_main.columns = df_main.columns.str.strip().str.replace(' ', '_').str.lower()\n",
    "\n",
    "# Check new column names\n",
    "print(df_main.columns)\n",
    "\n",
    "# After renaming, your plot code would look cleaner:\n",
    "# Scatter plot of Adult Mortality vs. Life Expectancy\n",
    "plt.figure(figsize=(10, 6))\n",
    "sns.scatterplot(data=df_main, x='adult_mortality', y='life_expectancy')\n",
    "plt.title('Life Expectancy vs. Adult Mortality')\n",
    "plt.show()\n",
    "\n",
    "# Scatter plot of Infant Deaths vs. Life Expectancy\n",
    "plt.figure(figsize=(10, 6))\n",
    "sns.scatterplot(data=df_main, x='schooling', y='life_expectancy')\n",
    "plt.title('Life Expectancy vs. Schooling')\n",
    "plt.show()\n"
   ]
  },
  {
   "cell_type": "markdown",
   "id": "9862d37ee8c16e78",
   "metadata": {
    "collapsed": false
   },
   "source": [
    "### Check normality"
   ]
  },
  {
   "cell_type": "code",
   "execution_count": null,
   "id": "3538029c",
   "metadata": {
    "colab": {
     "base_uri": "https://localhost:8080/",
     "height": 176
    },
    "id": "3538029c",
    "outputId": "0a70effa-94d7-4b81-d7ff-2d4ca7a8a37e",
    "ExecuteTime": {
     "start_time": "2024-05-20T04:07:07.613375400Z"
    }
   },
   "outputs": [],
   "source": [
    "X1 = df_main['income_composition_of_resources']\n",
    "X2 = df_main['schooling']\n",
    "Y = df_main['life_expectancy']\n"
   ]
  },
  {
   "cell_type": "markdown",
   "id": "WazvDCf9h120",
   "metadata": {
    "id": "WazvDCf9h120"
   },
   "source": []
  },
  {
   "cell_type": "markdown",
   "id": "2f7789b9",
   "metadata": {
    "id": "2f7789b9"
   },
   "source": [
    "$ r = \\frac{\\sum_{i=1}^{n}(x_i - \\bar{x})(y_i - \\bar{y})}{\\sqrt{\\sum_{i=1}^{n}(x_i - \\bar{x})^2}\\sqrt{\\sum_{i=1}^{n}(y_i - \\bar{y})^2}} $"
   ]
  },
  {
   "cell_type": "code",
   "execution_count": null,
   "id": "14c43112",
   "metadata": {
    "id": "14c43112",
    "ExecuteTime": {
     "start_time": "2024-05-20T04:07:07.614374800Z"
    }
   },
   "outputs": [],
   "source": [
    "def correlation_coefficient(X,Y):\n",
    "    X_mean = np.mean(X)\n",
    "    Y_mean = np.mean(Y)\n",
    "    A = (X-X_mean)\n",
    "    B = (Y-Y_mean)\n",
    "    r = np.sum( A*B) / np.sqrt(np.sum(A**2)*np.sum(B**2))\n",
    "    return r\n"
   ]
  },
  {
   "cell_type": "code",
   "execution_count": null,
   "id": "28ac5183",
   "metadata": {
    "id": "28ac5183",
    "ExecuteTime": {
     "start_time": "2024-05-20T04:07:07.616374200Z"
    }
   },
   "outputs": [],
   "source": [
    "correlation_coefficient(X1,Y),correlation_coefficient(X2,Y)"
   ]
  },
  {
   "cell_type": "markdown",
   "id": "cec46d19acefb7bf",
   "metadata": {
    "collapsed": false
   },
   "source": [
    "### Perform linear regression"
   ]
  },
  {
   "cell_type": "markdown",
   "id": "40380884",
   "metadata": {
    "id": "40380884"
   },
   "source": [
    "### $ \\hat{Y} = Intercept + Slope*X $\n",
    "$Slope = \\frac{\\sum_{i=1}^{n}(x_i - \\bar{x})(y_i - \\bar{y})}{\\sum_{i=1}^{n}(x_i - \\bar{x})^2}                   $ <br>\n",
    "$Intercept = \\bar{y} - Slope*\\bar{x}$               <br>"
   ]
  },
  {
   "cell_type": "code",
   "execution_count": null,
   "id": "af9e0ad3",
   "metadata": {
    "id": "af9e0ad3",
    "ExecuteTime": {
     "start_time": "2024-05-20T04:07:07.617372600Z"
    }
   },
   "outputs": [],
   "source": [
    "def linear_regression_line (X,Y):\n",
    "    X_mean = np.mean(X)\n",
    "    Y_mean = np.mean(Y)\n",
    "    A = (X-X_mean)\n",
    "    B = (Y-Y_mean)\n",
    "    S = np.sum(A*B) / np.sum(A**2)\n",
    "    I = Y_mean - S*X_mean\n",
    "    print(f\"linear regression line: Y = {round(I,3)} + {round(S,3)}*X\")\n",
    "    return I,S\n"
   ]
  },
  {
   "cell_type": "code",
   "execution_count": null,
   "id": "c459d6c3",
   "metadata": {
    "id": "c459d6c3",
    "ExecuteTime": {
     "start_time": "2024-05-20T04:07:07.618372600Z"
    }
   },
   "outputs": [],
   "source": [
    "I1,S1 = linear_regression_line(X1,Y)\n",
    "I2,S2 = linear_regression_line(X2,Y)"
   ]
  },
  {
   "cell_type": "code",
   "execution_count": null,
   "id": "319a6893",
   "metadata": {
    "id": "319a6893",
    "ExecuteTime": {
     "start_time": "2024-05-20T04:07:07.619372300Z"
    }
   },
   "outputs": [],
   "source": [
    "Y_predict1 = I1 + S1*X1\n",
    "Y_predict2 = I2 + S2*X2\n",
    "residual1 = Y-Y_predict1\n",
    "residual2 = Y-Y_predict2\n"
   ]
  },
  {
   "cell_type": "code",
   "execution_count": null,
   "id": "0be7404b",
   "metadata": {
    "id": "0be7404b",
    "ExecuteTime": {
     "start_time": "2024-05-20T04:07:07.621373900Z"
    }
   },
   "outputs": [],
   "source": [
    "figs,(A,B) = plt.subplots(1,2,figsize = (10,6))\n",
    "A.scatter(Y_predict1,residual1)\n",
    "A.set_xlabel('Y predict')\n",
    "A.set_ylabel('Residual')\n",
    "A.set_title(\"Income composition of resources\")\n",
    "A.plot([0, 100], [0,0], 'r-')\n",
    "B.scatter(Y_predict2,residual2)\n",
    "B.set_xlabel('Y predict')\n",
    "B.set_ylabel('Residual')\n",
    "B.set_title(\"Schooling\")\n",
    "B.plot([0, 100], [0,0], 'r-')\n",
    "\n",
    "\n",
    "plt.show()"
   ]
  },
  {
   "cell_type": "code",
   "execution_count": null,
   "id": "aafc9821",
   "metadata": {
    "id": "aafc9821",
    "ExecuteTime": {
     "start_time": "2024-05-20T04:07:07.622374400Z"
    }
   },
   "outputs": [],
   "source": [
    "import matplotlib.pyplot as plt\n",
    "\n",
    "# Example data\n",
    "hours_studied = [1, 2, 3, 4, 5, 6, 7, 8, 9, 10]\n",
    "exam_scores = [60, 65, 70, 75, 80, 85, 90, 95, 100, 105]\n",
    "\n",
    "# Create a scatter plot\n",
    "plt.scatter(hours_studied, exam_scores)\n",
    "plt.xlabel('Hours Studied')\n",
    "plt.ylabel('Exam Scores')\n",
    "plt.title('Scatter Plot of Hours Studied vs. Exam Scores')\n",
    "plt.show()"
   ]
  },
  {
   "cell_type": "code",
   "execution_count": null,
   "id": "ec041a1e",
   "metadata": {
    "id": "ec041a1e",
    "ExecuteTime": {
     "start_time": "2024-05-20T04:07:07.624372800Z"
    }
   },
   "outputs": [],
   "source": [
    "plt.scatter(X1,Y)\n",
    "plt.plot(X1,Y_predict1,'r')\n",
    "plt.show"
   ]
  },
  {
   "cell_type": "code",
   "execution_count": null,
   "id": "d2383637",
   "metadata": {
    "id": "d2383637",
    "ExecuteTime": {
     "start_time": "2024-05-20T04:07:07.625375800Z"
    }
   },
   "outputs": [],
   "source": [
    "plt.scatter(X2,Y)\n",
    "plt.plot(X2,Y_predict2,'r')\n",
    "plt.show"
   ]
  },
  {
   "cell_type": "markdown",
   "id": "9a623a0bea4b0e3e",
   "metadata": {
    "collapsed": false
   },
   "source": [
    "### Construct confident interval"
   ]
  },
  {
   "cell_type": "markdown",
   "id": "72682e75c67fd221",
   "metadata": {
    "collapsed": false
   },
   "source": [
    "### Perform hypothesis testing\n"
   ]
  },
  {
   "cell_type": "code",
   "execution_count": null,
   "id": "14bfcdf0",
   "metadata": {
    "id": "14bfcdf0",
    "ExecuteTime": {
     "end_time": "2024-05-20T04:07:07.679375300Z",
     "start_time": "2024-05-20T04:07:07.626378700Z"
    }
   },
   "outputs": [],
   "source": []
  }
 ],
 "metadata": {
  "colab": {
   "provenance": []
  },
  "kernelspec": {
   "display_name": "Python 3",
   "language": "python",
   "name": "python3"
  },
  "language_info": {
   "codemirror_mode": {
    "name": "ipython",
    "version": 3
   },
   "file_extension": ".py",
   "mimetype": "text/x-python",
   "name": "python",
   "nbconvert_exporter": "python",
   "pygments_lexer": "ipython3",
   "version": "3.10.11"
  }
 },
 "nbformat": 4,
 "nbformat_minor": 5
}
