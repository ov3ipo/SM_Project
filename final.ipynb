{
 "cells": [
  {
   "cell_type": "markdown",
   "id": "47f4881f-9c4b-48da-aec7-631926255e14",
   "metadata": {},
   "source": [
    "# Statistical Methods Project"
   ]
  },
  {
   "cell_type": "code",
   "execution_count": 1,
   "id": "67e39ae9",
   "metadata": {
    "ExecuteTime": {
     "end_time": "2024-06-12T13:11:06.178270100Z",
     "start_time": "2024-06-12T13:11:05.308841800Z"
    }
   },
   "outputs": [],
   "source": [
    "import pandas as pd\n",
    "import numpy as np\n",
    "import seaborn as sns\n",
    "import matplotlib.pyplot as plt\n",
    "from scipy.stats import shapiro\n",
    "from scipy.stats.mstats import winsorize\n",
    "import statsmodels.formula.api as smf\n",
    "import statsmodels.api as sm\n",
    "import scipy.stats as stats\n",
    "from statsmodels.stats.stattools import durbin_watson\n",
    "from statsmodels.stats.diagnostic import het_white"
   ]
  },
  {
   "cell_type": "markdown",
   "id": "db30c4e9-9855-4ac4-b56b-0d32025df5bb",
   "metadata": {},
   "source": [
    "# EDA (data description, data preprocessing)"
   ]
  },
  {
   "cell_type": "code",
   "execution_count": 2,
   "id": "cab505da",
   "metadata": {
    "ExecuteTime": {
     "end_time": "2024-06-12T13:11:28.367084300Z",
     "start_time": "2024-06-12T13:11:06.170891100Z"
    }
   },
   "outputs": [
    {
     "ename": "KeyboardInterrupt",
     "evalue": "",
     "output_type": "error",
     "traceback": [
      "\u001B[1;31m---------------------------------------------------------------------------\u001B[0m",
      "\u001B[1;31mTimeoutError\u001B[0m                              Traceback (most recent call last)",
      "File \u001B[1;32m~\\AppData\\Local\\Programs\\Python\\Python312\\Lib\\socket.py:837\u001B[0m, in \u001B[0;36mcreate_connection\u001B[1;34m(address, timeout, source_address, all_errors)\u001B[0m\n\u001B[0;32m    836\u001B[0m     sock\u001B[38;5;241m.\u001B[39mbind(source_address)\n\u001B[1;32m--> 837\u001B[0m \u001B[43msock\u001B[49m\u001B[38;5;241;43m.\u001B[39;49m\u001B[43mconnect\u001B[49m\u001B[43m(\u001B[49m\u001B[43msa\u001B[49m\u001B[43m)\u001B[49m\n\u001B[0;32m    838\u001B[0m \u001B[38;5;66;03m# Break explicitly a reference cycle\u001B[39;00m\n",
      "\u001B[1;31mTimeoutError\u001B[0m: [WinError 10060] A connection attempt failed because the connected party did not properly respond after a period of time, or established connection failed because connected host has failed to respond",
      "\nDuring handling of the above exception, another exception occurred:\n",
      "\u001B[1;31mKeyboardInterrupt\u001B[0m                         Traceback (most recent call last)",
      "Cell \u001B[1;32mIn[2], line 1\u001B[0m\n\u001B[1;32m----> 1\u001B[0m df \u001B[38;5;241m=\u001B[39m \u001B[43mpd\u001B[49m\u001B[38;5;241;43m.\u001B[39;49m\u001B[43mread_csv\u001B[49m\u001B[43m(\u001B[49m\u001B[38;5;124;43m\"\u001B[39;49m\u001B[38;5;124;43mhttps://raw.githubusercontent.com/ov3ipo/SM_Project/main/life_expectancy.csv\u001B[39;49m\u001B[38;5;124;43m\"\u001B[39;49m\u001B[43m)\u001B[49m\n\u001B[0;32m      2\u001B[0m \u001B[38;5;66;03m# remove trailing space in columns name and format display function\u001B[39;00m\n\u001B[0;32m      3\u001B[0m pd\u001B[38;5;241m.\u001B[39moptions\u001B[38;5;241m.\u001B[39mdisplay\u001B[38;5;241m.\u001B[39mfloat_format \u001B[38;5;241m=\u001B[39m \u001B[38;5;124m'\u001B[39m\u001B[38;5;132;01m{:.4f}\u001B[39;00m\u001B[38;5;124m'\u001B[39m\u001B[38;5;241m.\u001B[39mformat\n",
      "File \u001B[1;32m~\\AppData\\Local\\Programs\\Python\\Python312\\Lib\\site-packages\\pandas\\io\\parsers\\readers.py:1026\u001B[0m, in \u001B[0;36mread_csv\u001B[1;34m(filepath_or_buffer, sep, delimiter, header, names, index_col, usecols, dtype, engine, converters, true_values, false_values, skipinitialspace, skiprows, skipfooter, nrows, na_values, keep_default_na, na_filter, verbose, skip_blank_lines, parse_dates, infer_datetime_format, keep_date_col, date_parser, date_format, dayfirst, cache_dates, iterator, chunksize, compression, thousands, decimal, lineterminator, quotechar, quoting, doublequote, escapechar, comment, encoding, encoding_errors, dialect, on_bad_lines, delim_whitespace, low_memory, memory_map, float_precision, storage_options, dtype_backend)\u001B[0m\n\u001B[0;32m   1013\u001B[0m kwds_defaults \u001B[38;5;241m=\u001B[39m _refine_defaults_read(\n\u001B[0;32m   1014\u001B[0m     dialect,\n\u001B[0;32m   1015\u001B[0m     delimiter,\n\u001B[1;32m   (...)\u001B[0m\n\u001B[0;32m   1022\u001B[0m     dtype_backend\u001B[38;5;241m=\u001B[39mdtype_backend,\n\u001B[0;32m   1023\u001B[0m )\n\u001B[0;32m   1024\u001B[0m kwds\u001B[38;5;241m.\u001B[39mupdate(kwds_defaults)\n\u001B[1;32m-> 1026\u001B[0m \u001B[38;5;28;01mreturn\u001B[39;00m \u001B[43m_read\u001B[49m\u001B[43m(\u001B[49m\u001B[43mfilepath_or_buffer\u001B[49m\u001B[43m,\u001B[49m\u001B[43m \u001B[49m\u001B[43mkwds\u001B[49m\u001B[43m)\u001B[49m\n",
      "File \u001B[1;32m~\\AppData\\Local\\Programs\\Python\\Python312\\Lib\\site-packages\\pandas\\io\\parsers\\readers.py:620\u001B[0m, in \u001B[0;36m_read\u001B[1;34m(filepath_or_buffer, kwds)\u001B[0m\n\u001B[0;32m    617\u001B[0m _validate_names(kwds\u001B[38;5;241m.\u001B[39mget(\u001B[38;5;124m\"\u001B[39m\u001B[38;5;124mnames\u001B[39m\u001B[38;5;124m\"\u001B[39m, \u001B[38;5;28;01mNone\u001B[39;00m))\n\u001B[0;32m    619\u001B[0m \u001B[38;5;66;03m# Create the parser.\u001B[39;00m\n\u001B[1;32m--> 620\u001B[0m parser \u001B[38;5;241m=\u001B[39m \u001B[43mTextFileReader\u001B[49m\u001B[43m(\u001B[49m\u001B[43mfilepath_or_buffer\u001B[49m\u001B[43m,\u001B[49m\u001B[43m \u001B[49m\u001B[38;5;241;43m*\u001B[39;49m\u001B[38;5;241;43m*\u001B[39;49m\u001B[43mkwds\u001B[49m\u001B[43m)\u001B[49m\n\u001B[0;32m    622\u001B[0m \u001B[38;5;28;01mif\u001B[39;00m chunksize \u001B[38;5;129;01mor\u001B[39;00m iterator:\n\u001B[0;32m    623\u001B[0m     \u001B[38;5;28;01mreturn\u001B[39;00m parser\n",
      "File \u001B[1;32m~\\AppData\\Local\\Programs\\Python\\Python312\\Lib\\site-packages\\pandas\\io\\parsers\\readers.py:1620\u001B[0m, in \u001B[0;36mTextFileReader.__init__\u001B[1;34m(self, f, engine, **kwds)\u001B[0m\n\u001B[0;32m   1617\u001B[0m     \u001B[38;5;28mself\u001B[39m\u001B[38;5;241m.\u001B[39moptions[\u001B[38;5;124m\"\u001B[39m\u001B[38;5;124mhas_index_names\u001B[39m\u001B[38;5;124m\"\u001B[39m] \u001B[38;5;241m=\u001B[39m kwds[\u001B[38;5;124m\"\u001B[39m\u001B[38;5;124mhas_index_names\u001B[39m\u001B[38;5;124m\"\u001B[39m]\n\u001B[0;32m   1619\u001B[0m \u001B[38;5;28mself\u001B[39m\u001B[38;5;241m.\u001B[39mhandles: IOHandles \u001B[38;5;241m|\u001B[39m \u001B[38;5;28;01mNone\u001B[39;00m \u001B[38;5;241m=\u001B[39m \u001B[38;5;28;01mNone\u001B[39;00m\n\u001B[1;32m-> 1620\u001B[0m \u001B[38;5;28mself\u001B[39m\u001B[38;5;241m.\u001B[39m_engine \u001B[38;5;241m=\u001B[39m \u001B[38;5;28;43mself\u001B[39;49m\u001B[38;5;241;43m.\u001B[39;49m\u001B[43m_make_engine\u001B[49m\u001B[43m(\u001B[49m\u001B[43mf\u001B[49m\u001B[43m,\u001B[49m\u001B[43m \u001B[49m\u001B[38;5;28;43mself\u001B[39;49m\u001B[38;5;241;43m.\u001B[39;49m\u001B[43mengine\u001B[49m\u001B[43m)\u001B[49m\n",
      "File \u001B[1;32m~\\AppData\\Local\\Programs\\Python\\Python312\\Lib\\site-packages\\pandas\\io\\parsers\\readers.py:1880\u001B[0m, in \u001B[0;36mTextFileReader._make_engine\u001B[1;34m(self, f, engine)\u001B[0m\n\u001B[0;32m   1878\u001B[0m     \u001B[38;5;28;01mif\u001B[39;00m \u001B[38;5;124m\"\u001B[39m\u001B[38;5;124mb\u001B[39m\u001B[38;5;124m\"\u001B[39m \u001B[38;5;129;01mnot\u001B[39;00m \u001B[38;5;129;01min\u001B[39;00m mode:\n\u001B[0;32m   1879\u001B[0m         mode \u001B[38;5;241m+\u001B[39m\u001B[38;5;241m=\u001B[39m \u001B[38;5;124m\"\u001B[39m\u001B[38;5;124mb\u001B[39m\u001B[38;5;124m\"\u001B[39m\n\u001B[1;32m-> 1880\u001B[0m \u001B[38;5;28mself\u001B[39m\u001B[38;5;241m.\u001B[39mhandles \u001B[38;5;241m=\u001B[39m \u001B[43mget_handle\u001B[49m\u001B[43m(\u001B[49m\n\u001B[0;32m   1881\u001B[0m \u001B[43m    \u001B[49m\u001B[43mf\u001B[49m\u001B[43m,\u001B[49m\n\u001B[0;32m   1882\u001B[0m \u001B[43m    \u001B[49m\u001B[43mmode\u001B[49m\u001B[43m,\u001B[49m\n\u001B[0;32m   1883\u001B[0m \u001B[43m    \u001B[49m\u001B[43mencoding\u001B[49m\u001B[38;5;241;43m=\u001B[39;49m\u001B[38;5;28;43mself\u001B[39;49m\u001B[38;5;241;43m.\u001B[39;49m\u001B[43moptions\u001B[49m\u001B[38;5;241;43m.\u001B[39;49m\u001B[43mget\u001B[49m\u001B[43m(\u001B[49m\u001B[38;5;124;43m\"\u001B[39;49m\u001B[38;5;124;43mencoding\u001B[39;49m\u001B[38;5;124;43m\"\u001B[39;49m\u001B[43m,\u001B[49m\u001B[43m \u001B[49m\u001B[38;5;28;43;01mNone\u001B[39;49;00m\u001B[43m)\u001B[49m\u001B[43m,\u001B[49m\n\u001B[0;32m   1884\u001B[0m \u001B[43m    \u001B[49m\u001B[43mcompression\u001B[49m\u001B[38;5;241;43m=\u001B[39;49m\u001B[38;5;28;43mself\u001B[39;49m\u001B[38;5;241;43m.\u001B[39;49m\u001B[43moptions\u001B[49m\u001B[38;5;241;43m.\u001B[39;49m\u001B[43mget\u001B[49m\u001B[43m(\u001B[49m\u001B[38;5;124;43m\"\u001B[39;49m\u001B[38;5;124;43mcompression\u001B[39;49m\u001B[38;5;124;43m\"\u001B[39;49m\u001B[43m,\u001B[49m\u001B[43m \u001B[49m\u001B[38;5;28;43;01mNone\u001B[39;49;00m\u001B[43m)\u001B[49m\u001B[43m,\u001B[49m\n\u001B[0;32m   1885\u001B[0m \u001B[43m    \u001B[49m\u001B[43mmemory_map\u001B[49m\u001B[38;5;241;43m=\u001B[39;49m\u001B[38;5;28;43mself\u001B[39;49m\u001B[38;5;241;43m.\u001B[39;49m\u001B[43moptions\u001B[49m\u001B[38;5;241;43m.\u001B[39;49m\u001B[43mget\u001B[49m\u001B[43m(\u001B[49m\u001B[38;5;124;43m\"\u001B[39;49m\u001B[38;5;124;43mmemory_map\u001B[39;49m\u001B[38;5;124;43m\"\u001B[39;49m\u001B[43m,\u001B[49m\u001B[43m \u001B[49m\u001B[38;5;28;43;01mFalse\u001B[39;49;00m\u001B[43m)\u001B[49m\u001B[43m,\u001B[49m\n\u001B[0;32m   1886\u001B[0m \u001B[43m    \u001B[49m\u001B[43mis_text\u001B[49m\u001B[38;5;241;43m=\u001B[39;49m\u001B[43mis_text\u001B[49m\u001B[43m,\u001B[49m\n\u001B[0;32m   1887\u001B[0m \u001B[43m    \u001B[49m\u001B[43merrors\u001B[49m\u001B[38;5;241;43m=\u001B[39;49m\u001B[38;5;28;43mself\u001B[39;49m\u001B[38;5;241;43m.\u001B[39;49m\u001B[43moptions\u001B[49m\u001B[38;5;241;43m.\u001B[39;49m\u001B[43mget\u001B[49m\u001B[43m(\u001B[49m\u001B[38;5;124;43m\"\u001B[39;49m\u001B[38;5;124;43mencoding_errors\u001B[39;49m\u001B[38;5;124;43m\"\u001B[39;49m\u001B[43m,\u001B[49m\u001B[43m \u001B[49m\u001B[38;5;124;43m\"\u001B[39;49m\u001B[38;5;124;43mstrict\u001B[39;49m\u001B[38;5;124;43m\"\u001B[39;49m\u001B[43m)\u001B[49m\u001B[43m,\u001B[49m\n\u001B[0;32m   1888\u001B[0m \u001B[43m    \u001B[49m\u001B[43mstorage_options\u001B[49m\u001B[38;5;241;43m=\u001B[39;49m\u001B[38;5;28;43mself\u001B[39;49m\u001B[38;5;241;43m.\u001B[39;49m\u001B[43moptions\u001B[49m\u001B[38;5;241;43m.\u001B[39;49m\u001B[43mget\u001B[49m\u001B[43m(\u001B[49m\u001B[38;5;124;43m\"\u001B[39;49m\u001B[38;5;124;43mstorage_options\u001B[39;49m\u001B[38;5;124;43m\"\u001B[39;49m\u001B[43m,\u001B[49m\u001B[43m \u001B[49m\u001B[38;5;28;43;01mNone\u001B[39;49;00m\u001B[43m)\u001B[49m\u001B[43m,\u001B[49m\n\u001B[0;32m   1889\u001B[0m \u001B[43m\u001B[49m\u001B[43m)\u001B[49m\n\u001B[0;32m   1890\u001B[0m \u001B[38;5;28;01massert\u001B[39;00m \u001B[38;5;28mself\u001B[39m\u001B[38;5;241m.\u001B[39mhandles \u001B[38;5;129;01mis\u001B[39;00m \u001B[38;5;129;01mnot\u001B[39;00m \u001B[38;5;28;01mNone\u001B[39;00m\n\u001B[0;32m   1891\u001B[0m f \u001B[38;5;241m=\u001B[39m \u001B[38;5;28mself\u001B[39m\u001B[38;5;241m.\u001B[39mhandles\u001B[38;5;241m.\u001B[39mhandle\n",
      "File \u001B[1;32m~\\AppData\\Local\\Programs\\Python\\Python312\\Lib\\site-packages\\pandas\\io\\common.py:728\u001B[0m, in \u001B[0;36mget_handle\u001B[1;34m(path_or_buf, mode, encoding, compression, memory_map, is_text, errors, storage_options)\u001B[0m\n\u001B[0;32m    725\u001B[0m     codecs\u001B[38;5;241m.\u001B[39mlookup_error(errors)\n\u001B[0;32m    727\u001B[0m \u001B[38;5;66;03m# open URLs\u001B[39;00m\n\u001B[1;32m--> 728\u001B[0m ioargs \u001B[38;5;241m=\u001B[39m \u001B[43m_get_filepath_or_buffer\u001B[49m\u001B[43m(\u001B[49m\n\u001B[0;32m    729\u001B[0m \u001B[43m    \u001B[49m\u001B[43mpath_or_buf\u001B[49m\u001B[43m,\u001B[49m\n\u001B[0;32m    730\u001B[0m \u001B[43m    \u001B[49m\u001B[43mencoding\u001B[49m\u001B[38;5;241;43m=\u001B[39;49m\u001B[43mencoding\u001B[49m\u001B[43m,\u001B[49m\n\u001B[0;32m    731\u001B[0m \u001B[43m    \u001B[49m\u001B[43mcompression\u001B[49m\u001B[38;5;241;43m=\u001B[39;49m\u001B[43mcompression\u001B[49m\u001B[43m,\u001B[49m\n\u001B[0;32m    732\u001B[0m \u001B[43m    \u001B[49m\u001B[43mmode\u001B[49m\u001B[38;5;241;43m=\u001B[39;49m\u001B[43mmode\u001B[49m\u001B[43m,\u001B[49m\n\u001B[0;32m    733\u001B[0m \u001B[43m    \u001B[49m\u001B[43mstorage_options\u001B[49m\u001B[38;5;241;43m=\u001B[39;49m\u001B[43mstorage_options\u001B[49m\u001B[43m,\u001B[49m\n\u001B[0;32m    734\u001B[0m \u001B[43m\u001B[49m\u001B[43m)\u001B[49m\n\u001B[0;32m    736\u001B[0m handle \u001B[38;5;241m=\u001B[39m ioargs\u001B[38;5;241m.\u001B[39mfilepath_or_buffer\n\u001B[0;32m    737\u001B[0m handles: \u001B[38;5;28mlist\u001B[39m[BaseBuffer]\n",
      "File \u001B[1;32m~\\AppData\\Local\\Programs\\Python\\Python312\\Lib\\site-packages\\pandas\\io\\common.py:384\u001B[0m, in \u001B[0;36m_get_filepath_or_buffer\u001B[1;34m(filepath_or_buffer, encoding, compression, mode, storage_options)\u001B[0m\n\u001B[0;32m    382\u001B[0m \u001B[38;5;66;03m# assuming storage_options is to be interpreted as headers\u001B[39;00m\n\u001B[0;32m    383\u001B[0m req_info \u001B[38;5;241m=\u001B[39m urllib\u001B[38;5;241m.\u001B[39mrequest\u001B[38;5;241m.\u001B[39mRequest(filepath_or_buffer, headers\u001B[38;5;241m=\u001B[39mstorage_options)\n\u001B[1;32m--> 384\u001B[0m \u001B[38;5;28;01mwith\u001B[39;00m \u001B[43murlopen\u001B[49m\u001B[43m(\u001B[49m\u001B[43mreq_info\u001B[49m\u001B[43m)\u001B[49m \u001B[38;5;28;01mas\u001B[39;00m req:\n\u001B[0;32m    385\u001B[0m     content_encoding \u001B[38;5;241m=\u001B[39m req\u001B[38;5;241m.\u001B[39mheaders\u001B[38;5;241m.\u001B[39mget(\u001B[38;5;124m\"\u001B[39m\u001B[38;5;124mContent-Encoding\u001B[39m\u001B[38;5;124m\"\u001B[39m, \u001B[38;5;28;01mNone\u001B[39;00m)\n\u001B[0;32m    386\u001B[0m     \u001B[38;5;28;01mif\u001B[39;00m content_encoding \u001B[38;5;241m==\u001B[39m \u001B[38;5;124m\"\u001B[39m\u001B[38;5;124mgzip\u001B[39m\u001B[38;5;124m\"\u001B[39m:\n\u001B[0;32m    387\u001B[0m         \u001B[38;5;66;03m# Override compression based on Content-Encoding header\u001B[39;00m\n",
      "File \u001B[1;32m~\\AppData\\Local\\Programs\\Python\\Python312\\Lib\\site-packages\\pandas\\io\\common.py:289\u001B[0m, in \u001B[0;36murlopen\u001B[1;34m(*args, **kwargs)\u001B[0m\n\u001B[0;32m    283\u001B[0m \u001B[38;5;250m\u001B[39m\u001B[38;5;124;03m\"\"\"\u001B[39;00m\n\u001B[0;32m    284\u001B[0m \u001B[38;5;124;03mLazy-import wrapper for stdlib urlopen, as that imports a big chunk of\u001B[39;00m\n\u001B[0;32m    285\u001B[0m \u001B[38;5;124;03mthe stdlib.\u001B[39;00m\n\u001B[0;32m    286\u001B[0m \u001B[38;5;124;03m\"\"\"\u001B[39;00m\n\u001B[0;32m    287\u001B[0m \u001B[38;5;28;01mimport\u001B[39;00m \u001B[38;5;21;01murllib\u001B[39;00m\u001B[38;5;21;01m.\u001B[39;00m\u001B[38;5;21;01mrequest\u001B[39;00m\n\u001B[1;32m--> 289\u001B[0m \u001B[38;5;28;01mreturn\u001B[39;00m \u001B[43murllib\u001B[49m\u001B[38;5;241;43m.\u001B[39;49m\u001B[43mrequest\u001B[49m\u001B[38;5;241;43m.\u001B[39;49m\u001B[43murlopen\u001B[49m\u001B[43m(\u001B[49m\u001B[38;5;241;43m*\u001B[39;49m\u001B[43margs\u001B[49m\u001B[43m,\u001B[49m\u001B[43m \u001B[49m\u001B[38;5;241;43m*\u001B[39;49m\u001B[38;5;241;43m*\u001B[39;49m\u001B[43mkwargs\u001B[49m\u001B[43m)\u001B[49m\n",
      "File \u001B[1;32m~\\AppData\\Local\\Programs\\Python\\Python312\\Lib\\urllib\\request.py:215\u001B[0m, in \u001B[0;36murlopen\u001B[1;34m(url, data, timeout, cafile, capath, cadefault, context)\u001B[0m\n\u001B[0;32m    213\u001B[0m \u001B[38;5;28;01melse\u001B[39;00m:\n\u001B[0;32m    214\u001B[0m     opener \u001B[38;5;241m=\u001B[39m _opener\n\u001B[1;32m--> 215\u001B[0m \u001B[38;5;28;01mreturn\u001B[39;00m \u001B[43mopener\u001B[49m\u001B[38;5;241;43m.\u001B[39;49m\u001B[43mopen\u001B[49m\u001B[43m(\u001B[49m\u001B[43murl\u001B[49m\u001B[43m,\u001B[49m\u001B[43m \u001B[49m\u001B[43mdata\u001B[49m\u001B[43m,\u001B[49m\u001B[43m \u001B[49m\u001B[43mtimeout\u001B[49m\u001B[43m)\u001B[49m\n",
      "File \u001B[1;32m~\\AppData\\Local\\Programs\\Python\\Python312\\Lib\\urllib\\request.py:515\u001B[0m, in \u001B[0;36mOpenerDirector.open\u001B[1;34m(self, fullurl, data, timeout)\u001B[0m\n\u001B[0;32m    512\u001B[0m     req \u001B[38;5;241m=\u001B[39m meth(req)\n\u001B[0;32m    514\u001B[0m sys\u001B[38;5;241m.\u001B[39maudit(\u001B[38;5;124m'\u001B[39m\u001B[38;5;124murllib.Request\u001B[39m\u001B[38;5;124m'\u001B[39m, req\u001B[38;5;241m.\u001B[39mfull_url, req\u001B[38;5;241m.\u001B[39mdata, req\u001B[38;5;241m.\u001B[39mheaders, req\u001B[38;5;241m.\u001B[39mget_method())\n\u001B[1;32m--> 515\u001B[0m response \u001B[38;5;241m=\u001B[39m \u001B[38;5;28;43mself\u001B[39;49m\u001B[38;5;241;43m.\u001B[39;49m\u001B[43m_open\u001B[49m\u001B[43m(\u001B[49m\u001B[43mreq\u001B[49m\u001B[43m,\u001B[49m\u001B[43m \u001B[49m\u001B[43mdata\u001B[49m\u001B[43m)\u001B[49m\n\u001B[0;32m    517\u001B[0m \u001B[38;5;66;03m# post-process response\u001B[39;00m\n\u001B[0;32m    518\u001B[0m meth_name \u001B[38;5;241m=\u001B[39m protocol\u001B[38;5;241m+\u001B[39m\u001B[38;5;124m\"\u001B[39m\u001B[38;5;124m_response\u001B[39m\u001B[38;5;124m\"\u001B[39m\n",
      "File \u001B[1;32m~\\AppData\\Local\\Programs\\Python\\Python312\\Lib\\urllib\\request.py:532\u001B[0m, in \u001B[0;36mOpenerDirector._open\u001B[1;34m(self, req, data)\u001B[0m\n\u001B[0;32m    529\u001B[0m     \u001B[38;5;28;01mreturn\u001B[39;00m result\n\u001B[0;32m    531\u001B[0m protocol \u001B[38;5;241m=\u001B[39m req\u001B[38;5;241m.\u001B[39mtype\n\u001B[1;32m--> 532\u001B[0m result \u001B[38;5;241m=\u001B[39m \u001B[38;5;28;43mself\u001B[39;49m\u001B[38;5;241;43m.\u001B[39;49m\u001B[43m_call_chain\u001B[49m\u001B[43m(\u001B[49m\u001B[38;5;28;43mself\u001B[39;49m\u001B[38;5;241;43m.\u001B[39;49m\u001B[43mhandle_open\u001B[49m\u001B[43m,\u001B[49m\u001B[43m \u001B[49m\u001B[43mprotocol\u001B[49m\u001B[43m,\u001B[49m\u001B[43m \u001B[49m\u001B[43mprotocol\u001B[49m\u001B[43m \u001B[49m\u001B[38;5;241;43m+\u001B[39;49m\n\u001B[0;32m    533\u001B[0m \u001B[43m                          \u001B[49m\u001B[38;5;124;43m'\u001B[39;49m\u001B[38;5;124;43m_open\u001B[39;49m\u001B[38;5;124;43m'\u001B[39;49m\u001B[43m,\u001B[49m\u001B[43m \u001B[49m\u001B[43mreq\u001B[49m\u001B[43m)\u001B[49m\n\u001B[0;32m    534\u001B[0m \u001B[38;5;28;01mif\u001B[39;00m result:\n\u001B[0;32m    535\u001B[0m     \u001B[38;5;28;01mreturn\u001B[39;00m result\n",
      "File \u001B[1;32m~\\AppData\\Local\\Programs\\Python\\Python312\\Lib\\urllib\\request.py:492\u001B[0m, in \u001B[0;36mOpenerDirector._call_chain\u001B[1;34m(self, chain, kind, meth_name, *args)\u001B[0m\n\u001B[0;32m    490\u001B[0m \u001B[38;5;28;01mfor\u001B[39;00m handler \u001B[38;5;129;01min\u001B[39;00m handlers:\n\u001B[0;32m    491\u001B[0m     func \u001B[38;5;241m=\u001B[39m \u001B[38;5;28mgetattr\u001B[39m(handler, meth_name)\n\u001B[1;32m--> 492\u001B[0m     result \u001B[38;5;241m=\u001B[39m \u001B[43mfunc\u001B[49m\u001B[43m(\u001B[49m\u001B[38;5;241;43m*\u001B[39;49m\u001B[43margs\u001B[49m\u001B[43m)\u001B[49m\n\u001B[0;32m    493\u001B[0m     \u001B[38;5;28;01mif\u001B[39;00m result \u001B[38;5;129;01mis\u001B[39;00m \u001B[38;5;129;01mnot\u001B[39;00m \u001B[38;5;28;01mNone\u001B[39;00m:\n\u001B[0;32m    494\u001B[0m         \u001B[38;5;28;01mreturn\u001B[39;00m result\n",
      "File \u001B[1;32m~\\AppData\\Local\\Programs\\Python\\Python312\\Lib\\urllib\\request.py:1392\u001B[0m, in \u001B[0;36mHTTPSHandler.https_open\u001B[1;34m(self, req)\u001B[0m\n\u001B[0;32m   1391\u001B[0m \u001B[38;5;28;01mdef\u001B[39;00m \u001B[38;5;21mhttps_open\u001B[39m(\u001B[38;5;28mself\u001B[39m, req):\n\u001B[1;32m-> 1392\u001B[0m     \u001B[38;5;28;01mreturn\u001B[39;00m \u001B[38;5;28;43mself\u001B[39;49m\u001B[38;5;241;43m.\u001B[39;49m\u001B[43mdo_open\u001B[49m\u001B[43m(\u001B[49m\u001B[43mhttp\u001B[49m\u001B[38;5;241;43m.\u001B[39;49m\u001B[43mclient\u001B[49m\u001B[38;5;241;43m.\u001B[39;49m\u001B[43mHTTPSConnection\u001B[49m\u001B[43m,\u001B[49m\u001B[43m \u001B[49m\u001B[43mreq\u001B[49m\u001B[43m,\u001B[49m\n\u001B[0;32m   1393\u001B[0m \u001B[43m                        \u001B[49m\u001B[43mcontext\u001B[49m\u001B[38;5;241;43m=\u001B[39;49m\u001B[38;5;28;43mself\u001B[39;49m\u001B[38;5;241;43m.\u001B[39;49m\u001B[43m_context\u001B[49m\u001B[43m)\u001B[49m\n",
      "File \u001B[1;32m~\\AppData\\Local\\Programs\\Python\\Python312\\Lib\\urllib\\request.py:1344\u001B[0m, in \u001B[0;36mAbstractHTTPHandler.do_open\u001B[1;34m(self, http_class, req, **http_conn_args)\u001B[0m\n\u001B[0;32m   1342\u001B[0m \u001B[38;5;28;01mtry\u001B[39;00m:\n\u001B[0;32m   1343\u001B[0m     \u001B[38;5;28;01mtry\u001B[39;00m:\n\u001B[1;32m-> 1344\u001B[0m         \u001B[43mh\u001B[49m\u001B[38;5;241;43m.\u001B[39;49m\u001B[43mrequest\u001B[49m\u001B[43m(\u001B[49m\u001B[43mreq\u001B[49m\u001B[38;5;241;43m.\u001B[39;49m\u001B[43mget_method\u001B[49m\u001B[43m(\u001B[49m\u001B[43m)\u001B[49m\u001B[43m,\u001B[49m\u001B[43m \u001B[49m\u001B[43mreq\u001B[49m\u001B[38;5;241;43m.\u001B[39;49m\u001B[43mselector\u001B[49m\u001B[43m,\u001B[49m\u001B[43m \u001B[49m\u001B[43mreq\u001B[49m\u001B[38;5;241;43m.\u001B[39;49m\u001B[43mdata\u001B[49m\u001B[43m,\u001B[49m\u001B[43m \u001B[49m\u001B[43mheaders\u001B[49m\u001B[43m,\u001B[49m\n\u001B[0;32m   1345\u001B[0m \u001B[43m                  \u001B[49m\u001B[43mencode_chunked\u001B[49m\u001B[38;5;241;43m=\u001B[39;49m\u001B[43mreq\u001B[49m\u001B[38;5;241;43m.\u001B[39;49m\u001B[43mhas_header\u001B[49m\u001B[43m(\u001B[49m\u001B[38;5;124;43m'\u001B[39;49m\u001B[38;5;124;43mTransfer-encoding\u001B[39;49m\u001B[38;5;124;43m'\u001B[39;49m\u001B[43m)\u001B[49m\u001B[43m)\u001B[49m\n\u001B[0;32m   1346\u001B[0m     \u001B[38;5;28;01mexcept\u001B[39;00m \u001B[38;5;167;01mOSError\u001B[39;00m \u001B[38;5;28;01mas\u001B[39;00m err: \u001B[38;5;66;03m# timeout error\u001B[39;00m\n\u001B[0;32m   1347\u001B[0m         \u001B[38;5;28;01mraise\u001B[39;00m URLError(err)\n",
      "File \u001B[1;32m~\\AppData\\Local\\Programs\\Python\\Python312\\Lib\\http\\client.py:1331\u001B[0m, in \u001B[0;36mHTTPConnection.request\u001B[1;34m(self, method, url, body, headers, encode_chunked)\u001B[0m\n\u001B[0;32m   1328\u001B[0m \u001B[38;5;28;01mdef\u001B[39;00m \u001B[38;5;21mrequest\u001B[39m(\u001B[38;5;28mself\u001B[39m, method, url, body\u001B[38;5;241m=\u001B[39m\u001B[38;5;28;01mNone\u001B[39;00m, headers\u001B[38;5;241m=\u001B[39m{}, \u001B[38;5;241m*\u001B[39m,\n\u001B[0;32m   1329\u001B[0m             encode_chunked\u001B[38;5;241m=\u001B[39m\u001B[38;5;28;01mFalse\u001B[39;00m):\n\u001B[0;32m   1330\u001B[0m \u001B[38;5;250m    \u001B[39m\u001B[38;5;124;03m\"\"\"Send a complete request to the server.\"\"\"\u001B[39;00m\n\u001B[1;32m-> 1331\u001B[0m     \u001B[38;5;28;43mself\u001B[39;49m\u001B[38;5;241;43m.\u001B[39;49m\u001B[43m_send_request\u001B[49m\u001B[43m(\u001B[49m\u001B[43mmethod\u001B[49m\u001B[43m,\u001B[49m\u001B[43m \u001B[49m\u001B[43murl\u001B[49m\u001B[43m,\u001B[49m\u001B[43m \u001B[49m\u001B[43mbody\u001B[49m\u001B[43m,\u001B[49m\u001B[43m \u001B[49m\u001B[43mheaders\u001B[49m\u001B[43m,\u001B[49m\u001B[43m \u001B[49m\u001B[43mencode_chunked\u001B[49m\u001B[43m)\u001B[49m\n",
      "File \u001B[1;32m~\\AppData\\Local\\Programs\\Python\\Python312\\Lib\\http\\client.py:1377\u001B[0m, in \u001B[0;36mHTTPConnection._send_request\u001B[1;34m(self, method, url, body, headers, encode_chunked)\u001B[0m\n\u001B[0;32m   1373\u001B[0m \u001B[38;5;28;01mif\u001B[39;00m \u001B[38;5;28misinstance\u001B[39m(body, \u001B[38;5;28mstr\u001B[39m):\n\u001B[0;32m   1374\u001B[0m     \u001B[38;5;66;03m# RFC 2616 Section 3.7.1 says that text default has a\u001B[39;00m\n\u001B[0;32m   1375\u001B[0m     \u001B[38;5;66;03m# default charset of iso-8859-1.\u001B[39;00m\n\u001B[0;32m   1376\u001B[0m     body \u001B[38;5;241m=\u001B[39m _encode(body, \u001B[38;5;124m'\u001B[39m\u001B[38;5;124mbody\u001B[39m\u001B[38;5;124m'\u001B[39m)\n\u001B[1;32m-> 1377\u001B[0m \u001B[38;5;28;43mself\u001B[39;49m\u001B[38;5;241;43m.\u001B[39;49m\u001B[43mendheaders\u001B[49m\u001B[43m(\u001B[49m\u001B[43mbody\u001B[49m\u001B[43m,\u001B[49m\u001B[43m \u001B[49m\u001B[43mencode_chunked\u001B[49m\u001B[38;5;241;43m=\u001B[39;49m\u001B[43mencode_chunked\u001B[49m\u001B[43m)\u001B[49m\n",
      "File \u001B[1;32m~\\AppData\\Local\\Programs\\Python\\Python312\\Lib\\http\\client.py:1326\u001B[0m, in \u001B[0;36mHTTPConnection.endheaders\u001B[1;34m(self, message_body, encode_chunked)\u001B[0m\n\u001B[0;32m   1324\u001B[0m \u001B[38;5;28;01melse\u001B[39;00m:\n\u001B[0;32m   1325\u001B[0m     \u001B[38;5;28;01mraise\u001B[39;00m CannotSendHeader()\n\u001B[1;32m-> 1326\u001B[0m \u001B[38;5;28;43mself\u001B[39;49m\u001B[38;5;241;43m.\u001B[39;49m\u001B[43m_send_output\u001B[49m\u001B[43m(\u001B[49m\u001B[43mmessage_body\u001B[49m\u001B[43m,\u001B[49m\u001B[43m \u001B[49m\u001B[43mencode_chunked\u001B[49m\u001B[38;5;241;43m=\u001B[39;49m\u001B[43mencode_chunked\u001B[49m\u001B[43m)\u001B[49m\n",
      "File \u001B[1;32m~\\AppData\\Local\\Programs\\Python\\Python312\\Lib\\http\\client.py:1085\u001B[0m, in \u001B[0;36mHTTPConnection._send_output\u001B[1;34m(self, message_body, encode_chunked)\u001B[0m\n\u001B[0;32m   1083\u001B[0m msg \u001B[38;5;241m=\u001B[39m \u001B[38;5;124mb\u001B[39m\u001B[38;5;124m\"\u001B[39m\u001B[38;5;130;01m\\r\u001B[39;00m\u001B[38;5;130;01m\\n\u001B[39;00m\u001B[38;5;124m\"\u001B[39m\u001B[38;5;241m.\u001B[39mjoin(\u001B[38;5;28mself\u001B[39m\u001B[38;5;241m.\u001B[39m_buffer)\n\u001B[0;32m   1084\u001B[0m \u001B[38;5;28;01mdel\u001B[39;00m \u001B[38;5;28mself\u001B[39m\u001B[38;5;241m.\u001B[39m_buffer[:]\n\u001B[1;32m-> 1085\u001B[0m \u001B[38;5;28;43mself\u001B[39;49m\u001B[38;5;241;43m.\u001B[39;49m\u001B[43msend\u001B[49m\u001B[43m(\u001B[49m\u001B[43mmsg\u001B[49m\u001B[43m)\u001B[49m\n\u001B[0;32m   1087\u001B[0m \u001B[38;5;28;01mif\u001B[39;00m message_body \u001B[38;5;129;01mis\u001B[39;00m \u001B[38;5;129;01mnot\u001B[39;00m \u001B[38;5;28;01mNone\u001B[39;00m:\n\u001B[0;32m   1088\u001B[0m \n\u001B[0;32m   1089\u001B[0m     \u001B[38;5;66;03m# create a consistent interface to message_body\u001B[39;00m\n\u001B[0;32m   1090\u001B[0m     \u001B[38;5;28;01mif\u001B[39;00m \u001B[38;5;28mhasattr\u001B[39m(message_body, \u001B[38;5;124m'\u001B[39m\u001B[38;5;124mread\u001B[39m\u001B[38;5;124m'\u001B[39m):\n\u001B[0;32m   1091\u001B[0m         \u001B[38;5;66;03m# Let file-like take precedence over byte-like.  This\u001B[39;00m\n\u001B[0;32m   1092\u001B[0m         \u001B[38;5;66;03m# is needed to allow the current position of mmap'ed\u001B[39;00m\n\u001B[0;32m   1093\u001B[0m         \u001B[38;5;66;03m# files to be taken into account.\u001B[39;00m\n",
      "File \u001B[1;32m~\\AppData\\Local\\Programs\\Python\\Python312\\Lib\\http\\client.py:1029\u001B[0m, in \u001B[0;36mHTTPConnection.send\u001B[1;34m(self, data)\u001B[0m\n\u001B[0;32m   1027\u001B[0m \u001B[38;5;28;01mif\u001B[39;00m \u001B[38;5;28mself\u001B[39m\u001B[38;5;241m.\u001B[39msock \u001B[38;5;129;01mis\u001B[39;00m \u001B[38;5;28;01mNone\u001B[39;00m:\n\u001B[0;32m   1028\u001B[0m     \u001B[38;5;28;01mif\u001B[39;00m \u001B[38;5;28mself\u001B[39m\u001B[38;5;241m.\u001B[39mauto_open:\n\u001B[1;32m-> 1029\u001B[0m         \u001B[38;5;28;43mself\u001B[39;49m\u001B[38;5;241;43m.\u001B[39;49m\u001B[43mconnect\u001B[49m\u001B[43m(\u001B[49m\u001B[43m)\u001B[49m\n\u001B[0;32m   1030\u001B[0m     \u001B[38;5;28;01melse\u001B[39;00m:\n\u001B[0;32m   1031\u001B[0m         \u001B[38;5;28;01mraise\u001B[39;00m NotConnected()\n",
      "File \u001B[1;32m~\\AppData\\Local\\Programs\\Python\\Python312\\Lib\\http\\client.py:1465\u001B[0m, in \u001B[0;36mHTTPSConnection.connect\u001B[1;34m(self)\u001B[0m\n\u001B[0;32m   1462\u001B[0m \u001B[38;5;28;01mdef\u001B[39;00m \u001B[38;5;21mconnect\u001B[39m(\u001B[38;5;28mself\u001B[39m):\n\u001B[0;32m   1463\u001B[0m     \u001B[38;5;124m\"\u001B[39m\u001B[38;5;124mConnect to a host on a given (SSL) port.\u001B[39m\u001B[38;5;124m\"\u001B[39m\n\u001B[1;32m-> 1465\u001B[0m     \u001B[38;5;28;43msuper\u001B[39;49m\u001B[43m(\u001B[49m\u001B[43m)\u001B[49m\u001B[38;5;241;43m.\u001B[39;49m\u001B[43mconnect\u001B[49m\u001B[43m(\u001B[49m\u001B[43m)\u001B[49m\n\u001B[0;32m   1467\u001B[0m     \u001B[38;5;28;01mif\u001B[39;00m \u001B[38;5;28mself\u001B[39m\u001B[38;5;241m.\u001B[39m_tunnel_host:\n\u001B[0;32m   1468\u001B[0m         server_hostname \u001B[38;5;241m=\u001B[39m \u001B[38;5;28mself\u001B[39m\u001B[38;5;241m.\u001B[39m_tunnel_host\n",
      "File \u001B[1;32m~\\AppData\\Local\\Programs\\Python\\Python312\\Lib\\http\\client.py:995\u001B[0m, in \u001B[0;36mHTTPConnection.connect\u001B[1;34m(self)\u001B[0m\n\u001B[0;32m    993\u001B[0m \u001B[38;5;250m\u001B[39m\u001B[38;5;124;03m\"\"\"Connect to the host and port specified in __init__.\"\"\"\u001B[39;00m\n\u001B[0;32m    994\u001B[0m sys\u001B[38;5;241m.\u001B[39maudit(\u001B[38;5;124m\"\u001B[39m\u001B[38;5;124mhttp.client.connect\u001B[39m\u001B[38;5;124m\"\u001B[39m, \u001B[38;5;28mself\u001B[39m, \u001B[38;5;28mself\u001B[39m\u001B[38;5;241m.\u001B[39mhost, \u001B[38;5;28mself\u001B[39m\u001B[38;5;241m.\u001B[39mport)\n\u001B[1;32m--> 995\u001B[0m \u001B[38;5;28mself\u001B[39m\u001B[38;5;241m.\u001B[39msock \u001B[38;5;241m=\u001B[39m \u001B[38;5;28;43mself\u001B[39;49m\u001B[38;5;241;43m.\u001B[39;49m\u001B[43m_create_connection\u001B[49m\u001B[43m(\u001B[49m\n\u001B[0;32m    996\u001B[0m \u001B[43m    \u001B[49m\u001B[43m(\u001B[49m\u001B[38;5;28;43mself\u001B[39;49m\u001B[38;5;241;43m.\u001B[39;49m\u001B[43mhost\u001B[49m\u001B[43m,\u001B[49m\u001B[38;5;28;43mself\u001B[39;49m\u001B[38;5;241;43m.\u001B[39;49m\u001B[43mport\u001B[49m\u001B[43m)\u001B[49m\u001B[43m,\u001B[49m\u001B[43m \u001B[49m\u001B[38;5;28;43mself\u001B[39;49m\u001B[38;5;241;43m.\u001B[39;49m\u001B[43mtimeout\u001B[49m\u001B[43m,\u001B[49m\u001B[43m \u001B[49m\u001B[38;5;28;43mself\u001B[39;49m\u001B[38;5;241;43m.\u001B[39;49m\u001B[43msource_address\u001B[49m\u001B[43m)\u001B[49m\n\u001B[0;32m    997\u001B[0m \u001B[38;5;66;03m# Might fail in OSs that don't implement TCP_NODELAY\u001B[39;00m\n\u001B[0;32m    998\u001B[0m \u001B[38;5;28;01mtry\u001B[39;00m:\n",
      "File \u001B[1;32m~\\AppData\\Local\\Programs\\Python\\Python312\\Lib\\socket.py:844\u001B[0m, in \u001B[0;36mcreate_connection\u001B[1;34m(address, timeout, source_address, all_errors)\u001B[0m\n\u001B[0;32m    842\u001B[0m \u001B[38;5;28;01mexcept\u001B[39;00m error \u001B[38;5;28;01mas\u001B[39;00m exc:\n\u001B[0;32m    843\u001B[0m     \u001B[38;5;28;01mif\u001B[39;00m \u001B[38;5;129;01mnot\u001B[39;00m all_errors:\n\u001B[1;32m--> 844\u001B[0m         \u001B[43mexceptions\u001B[49m\u001B[38;5;241;43m.\u001B[39;49m\u001B[43mclear\u001B[49m\u001B[43m(\u001B[49m\u001B[43m)\u001B[49m  \u001B[38;5;66;03m# raise only the last error\u001B[39;00m\n\u001B[0;32m    845\u001B[0m     exceptions\u001B[38;5;241m.\u001B[39mappend(exc)\n\u001B[0;32m    846\u001B[0m     \u001B[38;5;28;01mif\u001B[39;00m sock \u001B[38;5;129;01mis\u001B[39;00m \u001B[38;5;129;01mnot\u001B[39;00m \u001B[38;5;28;01mNone\u001B[39;00m:\n",
      "\u001B[1;31mKeyboardInterrupt\u001B[0m: "
     ]
    }
   ],
   "source": [
    "df = pd.read_csv(\"https://raw.githubusercontent.com/ov3ipo/SM_Project/main/life_expectancy.csv\")\n",
    "# remove trailing space in columns name and format display function\n",
    "pd.options.display.float_format = '{:.4f}'.format\n",
    "df = df.rename(columns=lambda x: x.strip())\n",
    "\n",
    "# overview on data statistic\n",
    "display(df.head(10))\n",
    "display(df.info())\n",
    "\n",
    "# get quantitative and qualitative data\n",
    "numeric_cols = df.drop(columns=[\"Status\", \"Country\"], axis=1).columns"
   ]
  },
  {
   "cell_type": "markdown",
   "id": "e52769c8-a42d-48b7-844b-3afa1ce7b2a3",
   "metadata": {},
   "source": [
    "## Data description\n",
    "\n",
    "### Univariate\n",
    "\n",
    "#### Qualitative"
   ]
  },
  {
   "cell_type": "code",
   "execution_count": null,
   "id": "98a99739",
   "metadata": {
    "ExecuteTime": {
     "start_time": "2024-06-12T13:11:28.365025100Z"
    }
   },
   "outputs": [],
   "source": [
    "plt.figure(figsize = (10,5))\n",
    "plt.subplot(1, 2, 1)\n",
    "x = df['Status'].value_counts().reset_index()\n",
    "plt.pie(x=x['count'], labels=x['Status'], autopct=\"%0.1f%%\")\n",
    "plt.subplot(1, 2, 2)\n",
    "sns.countplot(df, x=\"Status\")\n",
    "plt.tight_layout()\n",
    "plt.show()"
   ]
  },
  {
   "cell_type": "markdown",
   "id": "d64fd85a-73c5-4e92-814d-f24ee24ef393",
   "metadata": {},
   "source": [
    "#### Quantitative"
   ]
  },
  {
   "cell_type": "code",
   "execution_count": null,
   "id": "c9a8ecaf",
   "metadata": {
    "ExecuteTime": {
     "start_time": "2024-06-12T13:11:28.366079Z"
    }
   },
   "outputs": [],
   "source": [
    "plt.figure(figsize=(10, 20))\n",
    "for i, col in enumerate(numeric_cols):\n",
    "    plt.subplot(10, 2, i + 1)\n",
    "    sns.histplot(df, x=col, bins=30, kde=True)\n",
    "plt.tight_layout()\n",
    "plt.show()"
   ]
  },
  {
   "cell_type": "markdown",
   "id": "ac08f8c2-35c4-4664-82ea-aecccd9c39e3",
   "metadata": {},
   "source": [
    "### Bivariate"
   ]
  },
  {
   "cell_type": "code",
   "execution_count": null,
   "id": "9b19ebbf",
   "metadata": {
    "ExecuteTime": {
     "end_time": "2024-06-12T13:11:28.370380100Z",
     "start_time": "2024-06-12T13:11:28.367155600Z"
    }
   },
   "outputs": [],
   "source": [
    "plt.figure(figsize=(10, 20))\n",
    "index = np.argwhere(numeric_cols==\"Life expectancy\")\n",
    "for i, col in enumerate(np.delete(numeric_cols, index)):\n",
    "    plt.subplot(10, 2, i + 1)\n",
    "    sns.scatterplot(df, x=col, y=\"Life expectancy\", hue=\"Status\", legend=\"auto\")\n",
    "plt.tight_layout()\n",
    "plt.show()"
   ]
  },
  {
   "cell_type": "markdown",
   "id": "a87e5d3d-f01b-4b44-a240-3fed42854043",
   "metadata": {},
   "source": [
    "### Overall statistic"
   ]
  },
  {
   "cell_type": "code",
   "execution_count": null,
   "id": "9d12f6d7",
   "metadata": {
    "ExecuteTime": {
     "start_time": "2024-06-12T13:11:28.369315700Z"
    }
   },
   "outputs": [],
   "source": [
    "display(df.describe().T)"
   ]
  },
  {
   "cell_type": "markdown",
   "id": "f0ee14f9-7faf-4e00-87b3-f87fb4eefdd8",
   "metadata": {},
   "source": [
    "## Data preprocessing (NAs, outliers, duplicateds, label encoding)\n",
    "\n",
    "### Missing"
   ]
  },
  {
   "cell_type": "code",
   "execution_count": null,
   "id": "343cb225",
   "metadata": {
    "ExecuteTime": {
     "end_time": "2024-06-12T13:11:28.433954600Z",
     "start_time": "2024-06-12T13:11:28.371439300Z"
    }
   },
   "outputs": [],
   "source": [
    "print(\"\\nPreprocessing\\n\")\n",
    "print(df.isna().sum())\n",
    "df = df.interpolate(method='linear', limit_direction='forward')\n",
    "print(\"\\nPostprocessing\\n\")\n",
    "print(df.isna().sum())"
   ]
  },
  {
   "cell_type": "markdown",
   "id": "6fc1e881-aa0c-49be-ba7a-e2ec279edb7e",
   "metadata": {},
   "source": [
    "### Duplicated"
   ]
  },
  {
   "cell_type": "code",
   "execution_count": null,
   "id": "26d26548",
   "metadata": {
    "ExecuteTime": {
     "start_time": "2024-06-12T13:11:28.373548Z"
    }
   },
   "outputs": [],
   "source": [
    "print(f\"Total duplicated values: {df.duplicated().sum()}\")"
   ]
  },
  {
   "cell_type": "markdown",
   "id": "acddd635-82fc-40f1-96a5-55d51ae930c4",
   "metadata": {},
   "source": [
    "### Outliers\n",
    "\n",
    "#### Detect outliers"
   ]
  },
  {
   "cell_type": "code",
   "execution_count": null,
   "id": "214ab075",
   "metadata": {
    "ExecuteTime": {
     "start_time": "2024-06-12T13:11:28.375667200Z"
    }
   },
   "outputs": [],
   "source": [
    "plt.figure(figsize=(10, 15))\n",
    "for i, col in enumerate(numeric_cols):\n",
    "    plt.subplot(10, 2, i + 1)\n",
    "    sns.boxplot(df, x=col)\n",
    "plt.tight_layout()\n",
    "plt.show()\n",
    "\n",
    "# detect outliers\n",
    "def detectOutliers(data):\n",
    "    outliers_arr = []\n",
    "    for col in data.columns:\n",
    "        Q1 = data[col].quantile(0.25)\n",
    "        Q3 = data[col].quantile(0.75)\n",
    "        IQR = Q3 - Q1\n",
    "        lower_bound = Q1 - 1.5 * IQR\n",
    "        upper_bound = Q3 + 1.5 * IQR\n",
    "        outliers = data[(data[col] < lower_bound) | (data[col] > upper_bound)][col].count()\n",
    "        outliers_arr.append(outliers)\n",
    "    return pd.DataFrame(outliers_arr, index=data.columns, columns=[\"Total outliers\"])\n",
    "\n",
    "numeric_data = df.drop(columns=[\"Status\", \"Country\"], axis=1)\n",
    "outliers = detectOutliers(numeric_data)\n",
    "display(outliers)"
   ]
  },
  {
   "cell_type": "markdown",
   "id": "38944813-ec67-490e-a0ef-2b5c799bc1b5",
   "metadata": {},
   "source": [
    "Why we should not use variable with high outliers -> because regression can heavily be affected by these outliers, hence we should only choose those with low outliers\n",
    "Potential variable for regression of target\n",
    "- Year\n",
    "- Adult Mortality\n",
    "- Alcohol\n",
    "- BMI\n",
    "- Total expenditure\n",
    "- thinness 1-19 years\n",
    "- thinness 5-9 years\n",
    "- Income composition of resources\n",
    "- Schooling\n",
    "\n",
    "One reason is that there was a large differences between developed, devloping and underdeveloped country.\n",
    "This can be the primary factor explained why outliers existed. Hence they are not abnormal observations.\n",
    "->Assumption 1: OUTLIERS SHOULD NOT BE REMOVED\n",
    "\n",
    "#### Dealing with outliers"
   ]
  },
  {
   "cell_type": "code",
   "execution_count": null,
   "id": "6d8882bd",
   "metadata": {
    "ExecuteTime": {
     "start_time": "2024-06-12T13:11:28.377792700Z"
    }
   },
   "outputs": [],
   "source": [
    "potential_var = outliers[(outliers[\"Total outliers\"] < 150)].index\n",
    "outliers_var = outliers[(outliers[\"Total outliers\"] > 0) & (outliers[\"Total outliers\"] < 150)].index\n",
    "df_outliers = df.copy()"
   ]
  },
  {
   "cell_type": "markdown",
   "id": "6abd1293-e84b-42fa-83b7-1ca9f349184e",
   "metadata": {},
   "source": [
    "##### With ouliers"
   ]
  },
  {
   "cell_type": "code",
   "execution_count": null,
   "id": "7dba94f3",
   "metadata": {
    "ExecuteTime": {
     "start_time": "2024-06-12T13:11:28.379935600Z"
    }
   },
   "outputs": [],
   "source": [
    "display(detectOutliers(df_outliers[potential_var]))\n",
    "plt.figure(figsize=(10, 15))\n",
    "for i, col in enumerate(potential_var):\n",
    "    plt.subplot(10, 2, i + 1)\n",
    "    sns.boxplot(df_outliers, x=col)\n",
    "plt.tight_layout()\n",
    "plt.show()"
   ]
  },
  {
   "cell_type": "markdown",
   "id": "b19ab16e-e1cf-43c3-950c-f45985a22255",
   "metadata": {},
   "source": [
    "##### Without ouliers"
   ]
  },
  {
   "cell_type": "code",
   "execution_count": null,
   "id": "72b98bb5",
   "metadata": {
    "ExecuteTime": {
     "start_time": "2024-06-12T13:11:28.383080800Z"
    }
   },
   "outputs": [],
   "source": [
    "for col in outliers_var:\n",
    "    if col != \"BMI\":\n",
    "        df_outliers[col] = winsorize(df_outliers[col], limits=[0.05, 0.05])\n",
    "\n",
    "display(detectOutliers(df_outliers[potential_var]))\n",
    "plt.figure(figsize=(10, 15))\n",
    "for i, col in enumerate(potential_var):\n",
    "    plt.subplot(10, 2, i + 1)\n",
    "    sns.boxplot(df_outliers, x=col)\n",
    "plt.tight_layout()\n",
    "plt.show()"
   ]
  },
  {
   "cell_type": "markdown",
   "id": "a741c546-98b1-4d01-ac8d-6aa14ef7aee7",
   "metadata": {},
   "source": [
    "### Comprare statistic between with and without outliers"
   ]
  },
  {
   "cell_type": "code",
   "execution_count": null,
   "id": "2794d86d",
   "metadata": {
    "ExecuteTime": {
     "start_time": "2024-06-12T13:11:28.385372600Z"
    }
   },
   "outputs": [],
   "source": [
    "# assign new dataframe to use for regression\n",
    "df_reg_n = df[potential_var]\n",
    "df_reg_y = df_outliers[potential_var]\n",
    "display(df_reg_n.describe().T)\n",
    "display(df_reg_y.describe().T)"
   ]
  },
  {
   "cell_type": "markdown",
   "id": "9dd9583a-7b96-4434-9474-32e6040f62d2",
   "metadata": {},
   "source": [
    "# Linear Regression Analysis\n",
    "\n",
    "## Correlation Matrix\n",
    "\n",
    "### With outliers"
   ]
  },
  {
   "cell_type": "code",
   "execution_count": null,
   "id": "82014250",
   "metadata": {
    "ExecuteTime": {
     "start_time": "2024-06-12T13:11:28.388611600Z"
    }
   },
   "outputs": [],
   "source": [
    "numeric_df = df.drop(columns=[\"Country\", \"Status\"])\n",
    "plt.figure(figsize=(15, 10))\n",
    "sns.heatmap(numeric_df.corr(), annot=True)\n",
    "plt.title('Heatmap Correlation')\n",
    "plt.show()\n",
    "\n",
    "# get variables that has high correlation with Life expectancy\n",
    "corrs = numeric_df.corr()['Life expectancy'].drop('Life expectancy')\n",
    "high_corr = corrs[corrs.abs() > 0.5]\n",
    "print(\"Variables have correlation larger than 0.5: \")\n",
    "print(high_corr)"
   ]
  },
  {
   "cell_type": "markdown",
   "id": "d7c8c61e-1ea3-4be1-8f4a-d0192c0afc5a",
   "metadata": {},
   "source": [
    "### Without outliers"
   ]
  },
  {
   "cell_type": "code",
   "execution_count": null,
   "id": "cf57d7f9",
   "metadata": {
    "ExecuteTime": {
     "start_time": "2024-06-12T13:11:28.391919300Z"
    }
   },
   "outputs": [],
   "source": [
    "numeric_df_outliers = df_outliers.drop(columns=[\"Country\", \"Status\"])\n",
    "plt.figure(figsize=(15, 10))\n",
    "sns.heatmap(numeric_df_outliers.corr(), annot=True)\n",
    "plt.title('Heatmap Correlation')\n",
    "plt.show()\n",
    "\n",
    "# get variables that has high correlation with Life expectancy\n",
    "corrs = numeric_df_outliers.corr()['Life expectancy'].drop('Life expectancy')\n",
    "high_corr = corrs[corrs.abs() > 0.5]\n",
    "print(\"Variables have correlation larger than 0.5: \")\n",
    "print(high_corr)"
   ]
  },
  {
   "cell_type": "markdown",
   "id": "14c5ad99-ae61-40ae-b178-e6ac910a2c7c",
   "metadata": {},
   "source": [
    "Corralations between with and without outliers does not change too much, which indicates\n",
    "that the outliers does not generally affect our data\n",
    "->Confirm assumption: OUTLIERS ARE NOT REMOVED"
   ]
  },
  {
   "cell_type": "code",
   "execution_count": null,
   "id": "d058ad97",
   "metadata": {
    "ExecuteTime": {
     "start_time": "2024-06-12T13:11:28.394040800Z"
    }
   },
   "outputs": [],
   "source": [
    "# update data use for regress\n",
    "df_regress = df_reg_y[[\"Life expectancy\", \"BMI\", \"Adult Mortality\"]]"
   ]
  },
  {
   "cell_type": "markdown",
   "id": "d4aefd3c-ef6f-4f1d-9f87-374c0c08de13",
   "metadata": {},
   "source": [
    "## Least square regression"
   ]
  },
  {
   "cell_type": "code",
   "execution_count": null,
   "id": "434b8d70",
   "metadata": {
    "ExecuteTime": {
     "start_time": "2024-06-12T13:11:28.396173400Z"
    }
   },
   "outputs": [],
   "source": [
    "X1 = df_regress['Adult Mortality']\n",
    "X2 = df_regress['BMI']\n",
    "y = df_regress['Life expectancy']\n",
    "\n",
    "model1 = smf.ols(formula='y ~ X1', data=df_regress).fit()\n",
    "print(model1.summary())"
   ]
  },
  {
   "cell_type": "code",
   "execution_count": null,
   "id": "f5dc0e85",
   "metadata": {
    "ExecuteTime": {
     "start_time": "2024-06-12T13:11:28.399446Z"
    }
   },
   "outputs": [],
   "source": [
    "model2 = smf.ols(formula='y ~ X2', data=df_regress).fit()\n",
    "print(model2.summary())"
   ]
  },
  {
   "cell_type": "code",
   "execution_count": null,
   "id": "dcf67f39",
   "metadata": {
    "ExecuteTime": {
     "start_time": "2024-06-12T13:11:28.400516800Z"
    }
   },
   "outputs": [],
   "source": [
    "model3 = smf.ols(formula='y ~ X1 + X2', data=df_regress).fit()\n",
    "print(model3.summary())"
   ]
  },
  {
   "cell_type": "markdown",
   "id": "ffd8b882-5a3d-4c2c-876d-05d81b329260",
   "metadata": {},
   "source": [
    "## Check residuals for 4 assumptions\n",
    "\n",
    "### Assumption 1: Linearity"
   ]
  },
  {
   "cell_type": "code",
   "execution_count": null,
   "id": "97a165b0",
   "metadata": {
    "ExecuteTime": {
     "start_time": "2024-06-12T13:11:28.402636Z"
    }
   },
   "outputs": [],
   "source": [
    "models = [model1, model2, model3]\n",
    "plt.figure(figsize=(6, 10))\n",
    "for i, model in enumerate(models):\n",
    "    plt.subplot(3, 1, i+1)\n",
    "    sns.residplot(x=model.fittedvalues, y=model.resid, lowess=True, line_kws={'color': 'red', 'lw': 1})\n",
    "    plt.xlabel('Fitted values')\n",
    "    plt.ylabel('Residuals')\n",
    "    plt.title(f'Model {i+1}')\n",
    "plt.tight_layout()\n",
    "plt.show()"
   ]
  },
  {
   "cell_type": "markdown",
   "id": "c26104e3-0d97-45f9-a874-66e6d8acd016",
   "metadata": {},
   "source": [
    "### Assumption 2: Independent"
   ]
  },
  {
   "cell_type": "code",
   "execution_count": null,
   "id": "8b0c57fa",
   "metadata": {
    "ExecuteTime": {
     "start_time": "2024-06-12T13:11:28.404705100Z"
    }
   },
   "outputs": [],
   "source": [
    "for i, model in enumerate(models):\n",
    "    d = durbin_watson(model.resid)\n",
    "    print(f\"Model {i+1}: {d}\")\n",
    "\n",
    "    if d<1.5: print(\"The residuals are positive autocorrelated.\\n\")\n",
    "    elif d>2.5: print(\"The residuals are negative autocorrelated.\\n\")\n",
    "    else: print(\"There is no correlation among the residuals.\\n\")"
   ]
  },
  {
   "cell_type": "markdown",
   "id": "2e1cec2f-3bac-4ef0-98bd-fe714007d084",
   "metadata": {},
   "source": [
    "H0 (null hypothesis): There is no correlation among the residuals.\n",
    "HA (alternative hypothesis): The residuals are autocorrelated.\n",
    "\n",
    "The test statistic always ranges from 0 to 4 where:\n",
    "- d = 2 indicates no autocorrelation\n",
    "- d < 2 indicates positive serial correlation\n",
    "- d > 2 indicates negative serial correlation\n",
    "\n",
    "In general, if d is less than 1.5 or greater than 2.5 then there is potentially a serious autocorrelation problem.\n",
    "Otherwise, if d is between 1.5 and 2.5 then autocorrelation is likely not a cause for concern.\n",
    "\n",
    "### Assumption 3: Homoscedasticity\n",
    "\n",
    "#### Determine by Graphic"
   ]
  },
  {
   "cell_type": "code",
   "execution_count": null,
   "id": "bfda0853",
   "metadata": {
    "ExecuteTime": {
     "start_time": "2024-06-12T13:11:28.405855700Z"
    }
   },
   "outputs": [],
   "source": [
    "plt.figure(figsize=(6, 10))\n",
    "for i, model in enumerate(models):\n",
    "    plt.subplot(3, 1, i+1)\n",
    "    sns.residplot(x=model.fittedvalues, y=model.resid, lowess=True, line_kws={'color': 'red', 'lw': 1})\n",
    "    plt.xlabel('Fitted values')\n",
    "    plt.ylabel('Residuals')\n",
    "    plt.title(f'Model {i+1}')\n",
    "plt.tight_layout()\n",
    "plt.show()"
   ]
  },
  {
   "cell_type": "markdown",
   "id": "a1b881f9-a418-41a6-bd46-cb7ff47fec62",
   "metadata": {},
   "source": [
    "Model 1:\n",
    "- The residuals appear to fan out more as the fitted values increase, especially beyond 70. This indicates an increase in variance of the residuals with higher fitted values, suggesting the presence of heteroscedasticity.\n",
    "Model 2:\n",
    "- The residuals show some clustering and appear to have a somewhat funnel-shaped pattern, with a wider spread at the lower and higher ends of the fitted values compared to the middle. This non-constant variance suggests the presence of heteroscedasticity.\n",
    "Model 3:\n",
    "- The residuals show a wider spread for lower fitted values and appear to narrow slightly for higher fitted values. This indicates non-constant variance of residuals across the range of fitted values, suggesting heteroscedasticity.\n",
    "\n",
    "#### Determine by Test"
   ]
  },
  {
   "cell_type": "code",
   "execution_count": null,
   "id": "e32327b9",
   "metadata": {
    "ExecuteTime": {
     "start_time": "2024-06-12T13:11:28.407937100Z"
    }
   },
   "outputs": [],
   "source": [
    "for i, model in enumerate(models):\n",
    "    white_test = het_white(model.resid, model.model.exog)\n",
    "    print(f\"White test: test statistic = {white_test[0]}, p-value = {white_test[1]}\")\n",
    "    if white_test[1] < 0.05:\n",
    "        print(\"Heteroscedasticity is present (residuals are not equally scattered)\\n\")\n",
    "    else:\n",
    "        print(\"Homoscedasticity is present (residuals are equally scattered)\\n\")"
   ]
  },
  {
   "cell_type": "markdown",
   "id": "e8672ba5-a288-41da-9d18-5c3214368eb4",
   "metadata": {},
   "source": [
    "### Assumption 4: Normality of Residuals"
   ]
  },
  {
   "cell_type": "code",
   "execution_count": null,
   "id": "2b421084",
   "metadata": {
    "ExecuteTime": {
     "start_time": "2024-06-12T13:11:28.409062300Z"
    }
   },
   "outputs": [],
   "source": [
    "sm.qqplot(model1.resid, line='45');\n",
    "sm.qqplot(model2.resid, line='45');\n",
    "sm.qqplot(model3.resid, line='45');"
   ]
  },
  {
   "cell_type": "markdown",
   "id": "52e71dc3-7660-43db-a1b8-1a2b35832309",
   "metadata": {},
   "source": [
    "## Normality check"
   ]
  },
  {
   "cell_type": "code",
   "execution_count": null,
   "id": "e3f56aa0",
   "metadata": {
    "ExecuteTime": {
     "start_time": "2024-06-12T13:11:28.411314600Z"
    }
   },
   "outputs": [],
   "source": [
    "# add semicolon to prevent duplicated graph issue\n",
    "sm.qqplot(df_regress['Adult Mortality'], line='45');\n",
    "sm.qqplot(df_regress['BMI'], line='45');\n",
    "sm.qqplot(df_regress[\"Life expectancy\"], line='45');"
   ]
  },
  {
   "cell_type": "code",
   "execution_count": null,
   "id": "8d361149",
   "metadata": {
    "ExecuteTime": {
     "start_time": "2024-06-12T13:11:28.413476400Z"
    }
   },
   "outputs": [],
   "source": [
    "# use Shapiro-Wilk test to test again\n",
    "for col in df_regress.columns:\n",
    "    test = shapiro(df_regress[col])\n",
    "    print(f'Test statistic = {test[0]}, p-value = {test[1]}')\n",
    "    if test[1] > 0.05: print(f'{col} looks normal distributed (fail to reject H0)\\n')\n",
    "    else: print(f'{col} does not normal distributed (reject H0)\\n')"
   ]
  },
  {
   "cell_type": "markdown",
   "id": "86afe4e0-6784-46b4-b978-acfc28aa41a3",
   "metadata": {},
   "source": [
    "Remark:\n",
    "Both the Q-Q plot and the Shapiro-Wilk test indicate that our dataset is not normally distributed. However, as our dataset is a sample from the years 2000 to 2015 and  continues to be updated annually, the increase in size may lead it to approximate normality over time, following the Central Limit Theorem (CLT). The CLT suggests that  with a large enough sample size, the sampling distribution of the mean will approximate a normal distribution, regardless of the initial distribution of the data. This principle is particularly important in inferential statistics, where the assumption of normality supports the validity of various statistical tests and the calculation of confidence intervals.\n",
    "\n",
    "## Construct confidence interval\n"
   ]
  },
  {
   "cell_type": "markdown",
   "id": "2feadba8-25c7-4f14-accb-8ec452fc5552",
   "metadata": {},
   "source": [
    "### Mean"
   ]
  },
  {
   "cell_type": "code",
   "execution_count": null,
   "id": "e1425826",
   "metadata": {
    "ExecuteTime": {
     "start_time": "2024-06-12T13:11:28.415638900Z"
    }
   },
   "outputs": [],
   "source": [
    "import numpy as np\n",
    "from scipy.stats import t\n",
    "\n",
    "n_bootstrap = 1000\n",
    "def CI_mean(data, name):\n",
    "# a) Confidence interval for the mean using bootstrapping\n",
    "  data_means = []\n",
    "  for _ in range(n_bootstrap):\n",
    "    data_boot = np.random.choice(data, size=len(data), replace=True)\n",
    "    data_means.append(np.mean(data_boot))\n",
    "  data_ci_low = np.percentile(data_means, 2.5)\n",
    "  data_ci_high = np.percentile(data_means, 97.5)\n",
    "  print(f\"Confidence interval for mean {name}: ({data_ci_low:.2f}, {data_ci_high:.2f})\")\n",
    "CI_mean(df_regress['BMI'], \"BMI\")\n",
    "CI_mean(df_regress['Adult Mortality'], 'Adult Mortality')\n",
    "CI_mean(df_regress['Life expectancy'], 'Life expectancy')"
   ]
  },
  {
   "cell_type": "markdown",
   "id": "c8d321ee-3f97-41b8-bb77-dede1f224683",
   "metadata": {},
   "source": [
    "### Variance"
   ]
  },
  {
   "cell_type": "code",
   "execution_count": null,
   "id": "23ea3d55",
   "metadata": {
    "ExecuteTime": {
     "start_time": "2024-06-12T13:11:28.417782400Z"
    }
   },
   "outputs": [],
   "source": [
    "def CI_var(data, name):\n",
    "  data_vars = []\n",
    "  for _ in range(n_bootstrap):\n",
    "    data_boot = np.random.choice(data, size=len(data), replace=True)\n",
    "    data_vars.append(np.var(data_boot))  \n",
    "  data_var_ci_low = np.percentile(data_vars, 2.5)\n",
    "  data_var_ci_high = np.percentile(data_vars, 97.5)\n",
    "\n",
    "  print(f\"Confidence interval for variance {name}: ({data_var_ci_low:.2f}, {data_var_ci_high:.2f})\")\n",
    "CI_var(df_regress['BMI'], \"BMI\")\n",
    "CI_var(df_regress['Adult Mortality'], 'Adult Mortality')\n",
    "CI_var(df_regress['Life expectancy'], 'Life expectancy')"
   ]
  },
  {
   "cell_type": "markdown",
   "source": [
    "### Proportion"
   ],
   "metadata": {
    "collapsed": false
   },
   "id": "65fbe9efe7c45fd8"
  },
  {
   "cell_type": "code",
   "outputs": [],
   "source": [
    "#Confidence interval for proportion of Life expectancy higher than 60\n",
    "import numpy as np\n",
    "from scipy.stats import binom\n",
    "\n",
    "# Assuming you have the dataframe 'df' with columns 'EPDS' and 'PROMIS_Anxiety'\n",
    "\n",
    "# Define the significance level\n",
    "alpha = 0.05\n",
    "\n",
    "# a) Confidence interval for the proportion of EPDS >= 13\n",
    "LElarger60 = df_regress[df_regress['Life expectancy'] >= 60]\n",
    "LE_total = len(df_regress['Life expectancy'])\n",
    "LE_larger60_len = len(LElarger60)\n",
    "LE_larger60_proportion = LE_larger60_len / LE_total\n",
    "\n",
    "\n",
    "LElarger60_ci_low = binom.ppf(alpha/2, LE_total, LE_larger60_proportion) / LE_total\n",
    "LElarger60_ci_high = binom.ppf(1 - alpha/2, LE_total, LE_larger60_proportion) / LE_total\n",
    "\n",
    "print(f\"Confidence interval for proportion of Life Expectancy larger than 60 : ({LElarger60_ci_low:.4f}, {LElarger60_ci_high:.4f})\")"
   ],
   "metadata": {
    "collapsed": false
   },
   "id": "3adbd5cbda3ea466"
  },
  {
   "cell_type": "markdown",
   "id": "3b56e678-7f51-4e5c-8107-3fff95361af3",
   "metadata": {},
   "source": [
    "## Perform hypothesis testing\n",
    "\n",
    "### Propotion"
   ]
  },
  {
   "cell_type": "code",
   "execution_count": null,
   "id": "9b9be704",
   "metadata": {
    "ExecuteTime": {
     "start_time": "2024-06-12T13:11:28.421128500Z"
    }
   },
   "outputs": [],
   "source": [
    "def ztest_propotion(n_counts, n_trials, p0, alpha, method, tail_type):\n",
    "    p_hat = n_counts/n_trials\n",
    "    z_test = (p_hat - p0) / np.sqrt(p0 * (1 - p0) / n_trials)\n",
    "\n",
    "    match(method):\n",
    "        case \"c\":\n",
    "            match(tail_type):\n",
    "                case \"left\":\n",
    "                    z_crit = stats.norm.ppf(1-alpha)\n",
    "                    if z_test < z_crit: \n",
    "                        return \"Reject null hypothesis.\"\n",
    "                    else: \n",
    "                        return \"Fail to reject null hypothesis.\"\n",
    "                case \"right\":\n",
    "                    z_crit = stats.norm.ppf(alpha)\n",
    "                    if z_test > z_crit:\n",
    "                        return \"Reject null hypothesis.\"\n",
    "                    else: \n",
    "                        return \"Fail to reject null hypothesis.\"\n",
    "                case \"two\":\n",
    "                    # 1-alpha/2 or alpha/2? i think both are ok\n",
    "                    # since 1-alpha/2 = -alpha/2\n",
    "                    z_crit = stats.norm.ppf(alpha/2)\n",
    "                    # z_crit = stats.norm.ppf(1-alpha/2)\n",
    "                    if abs(z_test) > z_crit:\n",
    "                        return \"Reject null hypothesis.\"\n",
    "                    else: \n",
    "                        return \"Fail to reject null hypothesis.\"\n",
    "                case _:\n",
    "                    return \"Invalid option.\"\n",
    "        case \"p\":\n",
    "            match(tail_type):\n",
    "                case \"left\":\n",
    "                    p_val = stats.norm.cdf(z_test)\n",
    "                case \"right\":\n",
    "                    p_val = 1 - stats.norm.cdf(z_test)\n",
    "                case \"two\":\n",
    "                    p_val = 2 * (1- stats.norm.cdf(z_test))\n",
    "                case _:\n",
    "                    return \"Invalid option.\"\n",
    "            if (p_val < alpha):\n",
    "                return \"Reject null hypothesis.\"\n",
    "            else: \n",
    "                return \"Fail to reject null hypothesis.\"\n",
    "\n",
    "# test if the propotion of Life expectancy < 50 is actually in the CI calculate above\n",
    "counts = len(df_regress[(df_regress[\"Life expectancy\"]<50)])\n",
    "trials = len(df_regress)\n",
    "alpha = 0.05\n",
    "p0 = 0.8\n",
    "print(\"Hypothesis testing using critical value: \")\n",
    "print(ztest_propotion(counts, trials, p0, alpha, \"c\", \"right\"))\n",
    "print()\n",
    "print(\"Hypothesis testing using p value: \")\n",
    "print(ztest_propotion(counts, trials, p0, alpha, \"p\", \"right\"))"
   ]
  },
  {
   "cell_type": "markdown",
   "id": "eece6539-d7cf-4745-8339-974692b43a27",
   "metadata": {},
   "source": [
    "### Mean"
   ]
  },
  {
   "cell_type": "code",
   "execution_count": null,
   "id": "8e47f091",
   "metadata": {
    "ExecuteTime": {
     "start_time": "2024-06-12T13:11:28.423248700Z"
    }
   },
   "outputs": [],
   "source": [
    "# test if the mean of Life expectancy < 50 is actually in the CI calculate above\n",
    "def ttest_mean(trials_mean, trials_std, n_trials, u0, alpha, method,tail_type):\n",
    "    t_test = (trials_mean - u0) / (trials_std * np.sqrt(n_trials))\n",
    "\n",
    "    match(method):\n",
    "        case \"c\":\n",
    "            match(tail_type):\n",
    "                case \"left\":\n",
    "                    t_crit = stats.t.ppf(q = alpha, df=n_trials-1)\n",
    "                    if t_test < t_crit:\n",
    "                        return \"Reject null hypothesis.\"\n",
    "                    else:\n",
    "                        return \"Fail to reject null hypothesis.\"\n",
    "                case \"right\":\n",
    "                    t_crit = stats.t.ppf(q = 1 - alpha, df=n_trials-1)\n",
    "                    if t_test > t_crit:\n",
    "                        return \"Reject null hypothesis.\"\n",
    "                    else:\n",
    "                        return \"Fail to reject null hypothesis.\"\n",
    "                case \"two\":\n",
    "                    # alpha/2 or 1-alpha/2?: both are ok\n",
    "                    t_crit = stats.t.ppf(q = 1 - alpha / 2, df=n_trials-1)\n",
    "                    # t_crit = stats.t.ppf(q = alpha / 2, df=n_trials-1)\n",
    "                    if abs(t_test) > abs(t_crit):\n",
    "                        return \"Reject null hypothesis.\"\n",
    "                    else:\n",
    "                        return \"Fail to reject null hypothesis.\"\n",
    "                case _:\n",
    "                    return \"Invalid option.\"\n",
    "        case \"p\":\n",
    "            match(tail_type):\n",
    "                case \"left\":\n",
    "                    p_val = stats.t.cdf(t_test, df=n_trials-1)\n",
    "                case \"right\":\n",
    "                    p_val = 1 - stats.t.cdf(t_test, df=n_trials-1)\n",
    "                case \"two\":\n",
    "                    p_val = 2 * (1 - stats.t.cdf(abs(t_test), df=n_trials-1))\n",
    "                case _:\n",
    "                    return \"Invalid option.\"\n",
    "            if (p_val < alpha):\n",
    "                return \"Reject null hypothesis.\"\n",
    "            else: \n",
    "                return \"Fail to reject null hypothesis.\"\n",
    "        case _:\n",
    "            return \"Invalid option.\"\n",
    "\n",
    "sample_mean = np.mean(df_regress[\"BMI\"])\n",
    "sample_std = np.std(df_regress[\"BMI\"], ddof=1)\n",
    "sample_size = len(df_regress)\n",
    "mean_test = 10\n",
    "alpha = 0.05\n",
    "\n",
    "print(\"Hypothesis testing using critical value: \")\n",
    "print(ttest_mean(sample_mean, sample_std, sample_size, mean_test, alpha, \"c\", \"right\"))\n",
    "print()\n",
    "print(\"Hypothesis testing using p value: \")\n",
    "print(ttest_mean(sample_mean, sample_std, sample_size, mean_test, alpha, \"p\", \"right\"))"
   ]
  },
  {
   "cell_type": "markdown",
   "id": "1d0c8757-f381-4dec-9d79-2798c509c50b",
   "metadata": {},
   "source": [
    "### Standard Deviation"
   ]
  },
  {
   "cell_type": "code",
   "execution_count": null,
   "id": "4f557304",
   "metadata": {
    "ExecuteTime": {
     "start_time": "2024-06-12T13:11:28.424312600Z"
    }
   },
   "outputs": [],
   "source": [
    "def chitest_std(trials_std, n_trials, std0, alpha, method, tail_type):\n",
    "    X2_test = (n_trials-1) * trials_std**2 / std0**2\n",
    "\n",
    "    match(method):\n",
    "        case \"c\":\n",
    "            match(tail_type):\n",
    "                case \"left\":\n",
    "                    X2_crit = stats.chi2.ppf(q = 1 - alpha, df= n_trials-1)\n",
    "                    if X2_test < X2_crit:\n",
    "                        return \"Reject null hypothesis.\"\n",
    "                    else:\n",
    "                        return \"Fail to reject null hypothesis.\"\n",
    "                case \"right\":\n",
    "                    X2_crit = stats.chi2.ppf(q = alpha, df= n_trials-1)\n",
    "                    if X2_test > X2_crit:\n",
    "                        return \"Reject null hypothesis.\"\n",
    "                    else:\n",
    "                        return \"Fail to reject null hypothesis.\"\n",
    "                case \"two\":\n",
    "                    X2_crit_low = stats.chi2.ppf(q= alpha / 2, df=n_trials-1)\n",
    "                    X2_crit_high = stats.chi2.ppf(q= 1 - alpha / 2, df=n_trials-1)\n",
    "                    if (X2_test < X2_crit_low) | (X2_test > X2_crit_high):\n",
    "                        return \"Reject null hypothesis.\"\n",
    "                    else:\n",
    "                        return \"Fail to reject null hypothesis.\"\n",
    "                case _:\n",
    "                    return \"Invalid option.\"\n",
    "        case \"p\":\n",
    "            match(tail_type):\n",
    "                case \"left\":\n",
    "                    p_val = stats.chi2.cdf(X2_test, df=n_trials-1)\n",
    "                case \"right\":\n",
    "                    p_val = 1 - stats.chi2.cdf(X2_test, df=n_trials-1)\n",
    "                case \"two\":\n",
    "                    p_val = 2 * min(stats.chi2.cdf(X2_test, df= n_trials - 1),\n",
    "                                              1 - stats.chi2.cdf(X2_test, df= n_trials - 1))\n",
    "                case _:\n",
    "                    return \"Invalid option.\"\n",
    "            if (p_val < alpha):\n",
    "                return \"Reject null hypothesis.\"\n",
    "            else: \n",
    "                return \"Fail to reject null hypothesis.\"\n",
    "        case _:\n",
    "            return \"Invalid option.\"\n",
    "\n",
    "sample_std = np.std(df_regress[\"BMI\"], ddof=1)\n",
    "sample_size = len(df_regress)\n",
    "std_test = 21\n",
    "alpha = 0.05\n",
    "print(\"Hypothesis testing using critical value: \")\n",
    "print(chitest_std(sample_std, sample_size, std_test, alpha, \"c\", \"left\"))\n",
    "print()\n",
    "print(\"Hypothesis testing using p value: \")\n",
    "print(chitest_std(sample_std, sample_size, std_test, alpha, \"p\", \"left\"))"
   ]
  }
 ],
 "metadata": {
  "kernelspec": {
   "display_name": "Python 3 (ipykernel)",
   "language": "python",
   "name": "python3"
  }
 },
 "nbformat": 4,
 "nbformat_minor": 5
}
